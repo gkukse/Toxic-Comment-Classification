{
 "cells": [
  {
   "cell_type": "code",
   "execution_count": 1,
   "metadata": {},
   "outputs": [],
   "source": [
    "import numpy as np\n",
    "import pandas as pd\n",
    "import seaborn as sns\n",
    "import matplotlib.pyplot as plt\n",
    "\n",
    "pd.plotting.register_matplotlib_converters()\n",
    "%matplotlib inline\n",
    "\n",
    "import duckdb\n",
    "\n",
    "\n",
    "%load_ext autoreload\n",
    "%autoreload 2\n",
    "from help_tool import help_tool\n",
    "\n",
    "#pd.set_option('future.no_silent_downcasting', True)\n",
    "\n",
    "# Setting graph parameters\n",
    "sns.set_theme(style='white')\n",
    "\n",
    "pd.set_option('display.max_colwidth', None)"
   ]
  },
  {
   "cell_type": "code",
   "execution_count": 2,
   "metadata": {},
   "outputs": [
    {
     "name": "stdout",
     "output_type": "stream",
     "text": [
      "Dataset has 159571 observations and 8 features\n",
      "Columns with all empty values []\n",
      "Dataset has 0 duplicates\n"
     ]
    },
    {
     "data": {
      "text/html": [
       "<div>\n",
       "<style scoped>\n",
       "    .dataframe tbody tr th:only-of-type {\n",
       "        vertical-align: middle;\n",
       "    }\n",
       "\n",
       "    .dataframe tbody tr th {\n",
       "        vertical-align: top;\n",
       "    }\n",
       "\n",
       "    .dataframe thead th {\n",
       "        text-align: right;\n",
       "    }\n",
       "</style>\n",
       "<table border=\"1\" class=\"dataframe\">\n",
       "  <thead>\n",
       "    <tr style=\"text-align: right;\">\n",
       "      <th></th>\n",
       "      <th>dtypes</th>\n",
       "      <th>Null values, Count</th>\n",
       "      <th>Null values, %</th>\n",
       "    </tr>\n",
       "  </thead>\n",
       "  <tbody>\n",
       "    <tr>\n",
       "      <th>id</th>\n",
       "      <td>object</td>\n",
       "      <td>0</td>\n",
       "      <td>0.0</td>\n",
       "    </tr>\n",
       "    <tr>\n",
       "      <th>comment_text</th>\n",
       "      <td>object</td>\n",
       "      <td>0</td>\n",
       "      <td>0.0</td>\n",
       "    </tr>\n",
       "    <tr>\n",
       "      <th>toxic</th>\n",
       "      <td>int64</td>\n",
       "      <td>0</td>\n",
       "      <td>0.0</td>\n",
       "    </tr>\n",
       "    <tr>\n",
       "      <th>severe_toxic</th>\n",
       "      <td>int64</td>\n",
       "      <td>0</td>\n",
       "      <td>0.0</td>\n",
       "    </tr>\n",
       "    <tr>\n",
       "      <th>obscene</th>\n",
       "      <td>int64</td>\n",
       "      <td>0</td>\n",
       "      <td>0.0</td>\n",
       "    </tr>\n",
       "    <tr>\n",
       "      <th>threat</th>\n",
       "      <td>int64</td>\n",
       "      <td>0</td>\n",
       "      <td>0.0</td>\n",
       "    </tr>\n",
       "    <tr>\n",
       "      <th>insult</th>\n",
       "      <td>int64</td>\n",
       "      <td>0</td>\n",
       "      <td>0.0</td>\n",
       "    </tr>\n",
       "    <tr>\n",
       "      <th>identity_hate</th>\n",
       "      <td>int64</td>\n",
       "      <td>0</td>\n",
       "      <td>0.0</td>\n",
       "    </tr>\n",
       "  </tbody>\n",
       "</table>\n",
       "</div>"
      ],
      "text/plain": [
       "               dtypes Null values, Count Null values, %\n",
       "id             object                  0            0.0\n",
       "comment_text   object                  0            0.0\n",
       "toxic           int64                  0            0.0\n",
       "severe_toxic    int64                  0            0.0\n",
       "obscene         int64                  0            0.0\n",
       "threat          int64                  0            0.0\n",
       "insult          int64                  0            0.0\n",
       "identity_hate   int64                  0            0.0"
      ]
     },
     "execution_count": 2,
     "metadata": {},
     "output_type": "execute_result"
    }
   ],
   "source": [
    "train = help_tool.csv_download(\n",
    "    r'Archive\\train.csv')\n",
    "\n",
    "help_tool.first_look(train)"
   ]
  },
  {
   "cell_type": "code",
   "execution_count": 3,
   "metadata": {},
   "outputs": [
    {
     "data": {
      "text/html": [
       "<div>\n",
       "<style scoped>\n",
       "    .dataframe tbody tr th:only-of-type {\n",
       "        vertical-align: middle;\n",
       "    }\n",
       "\n",
       "    .dataframe tbody tr th {\n",
       "        vertical-align: top;\n",
       "    }\n",
       "\n",
       "    .dataframe thead th {\n",
       "        text-align: right;\n",
       "    }\n",
       "</style>\n",
       "<table border=\"1\" class=\"dataframe\">\n",
       "  <thead>\n",
       "    <tr style=\"text-align: right;\">\n",
       "      <th></th>\n",
       "      <th>id</th>\n",
       "      <th>comment_text</th>\n",
       "      <th>toxic</th>\n",
       "      <th>severe_toxic</th>\n",
       "      <th>obscene</th>\n",
       "      <th>threat</th>\n",
       "      <th>insult</th>\n",
       "      <th>identity_hate</th>\n",
       "    </tr>\n",
       "  </thead>\n",
       "  <tbody>\n",
       "    <tr>\n",
       "      <th>0</th>\n",
       "      <td>0000997932d777bf</td>\n",
       "      <td>Explanation\\nWhy the edits made under my username Hardcore Metallica Fan were reverted? They weren't vandalisms, just closure on some GAs after I voted at New York Dolls FAC. And please don't remove the template from the talk page since I'm retired now.89.205.38.27</td>\n",
       "      <td>0</td>\n",
       "      <td>0</td>\n",
       "      <td>0</td>\n",
       "      <td>0</td>\n",
       "      <td>0</td>\n",
       "      <td>0</td>\n",
       "    </tr>\n",
       "    <tr>\n",
       "      <th>1</th>\n",
       "      <td>000103f0d9cfb60f</td>\n",
       "      <td>D'aww! He matches this background colour I'm seemingly stuck with. Thanks.  (talk) 21:51, January 11, 2016 (UTC)</td>\n",
       "      <td>0</td>\n",
       "      <td>0</td>\n",
       "      <td>0</td>\n",
       "      <td>0</td>\n",
       "      <td>0</td>\n",
       "      <td>0</td>\n",
       "    </tr>\n",
       "    <tr>\n",
       "      <th>2</th>\n",
       "      <td>000113f07ec002fd</td>\n",
       "      <td>Hey man, I'm really not trying to edit war. It's just that this guy is constantly removing relevant information and talking to me through edits instead of my talk page. He seems to care more about the formatting than the actual info.</td>\n",
       "      <td>0</td>\n",
       "      <td>0</td>\n",
       "      <td>0</td>\n",
       "      <td>0</td>\n",
       "      <td>0</td>\n",
       "      <td>0</td>\n",
       "    </tr>\n",
       "    <tr>\n",
       "      <th>3</th>\n",
       "      <td>0001b41b1c6bb37e</td>\n",
       "      <td>\"\\nMore\\nI can't make any real suggestions on improvement - I wondered if the section statistics should be later on, or a subsection of \"\"types of accidents\"\"  -I think the references may need tidying so that they are all in the exact same format ie date format etc. I can do that later on, if no-one else does first - if you have any preferences for formatting style on references or want to do it yourself please let me know.\\n\\nThere appears to be a backlog on articles for review so I guess there may be a delay until a reviewer turns up. It's listed in the relevant form eg Wikipedia:Good_article_nominations#Transport  \"</td>\n",
       "      <td>0</td>\n",
       "      <td>0</td>\n",
       "      <td>0</td>\n",
       "      <td>0</td>\n",
       "      <td>0</td>\n",
       "      <td>0</td>\n",
       "    </tr>\n",
       "    <tr>\n",
       "      <th>4</th>\n",
       "      <td>0001d958c54c6e35</td>\n",
       "      <td>You, sir, are my hero. Any chance you remember what page that's on?</td>\n",
       "      <td>0</td>\n",
       "      <td>0</td>\n",
       "      <td>0</td>\n",
       "      <td>0</td>\n",
       "      <td>0</td>\n",
       "      <td>0</td>\n",
       "    </tr>\n",
       "  </tbody>\n",
       "</table>\n",
       "</div>"
      ],
      "text/plain": [
       "                 id  \\\n",
       "0  0000997932d777bf   \n",
       "1  000103f0d9cfb60f   \n",
       "2  000113f07ec002fd   \n",
       "3  0001b41b1c6bb37e   \n",
       "4  0001d958c54c6e35   \n",
       "\n",
       "                                                                                                                                                                                                                                                                                                                                                                                                                                                                                                                                                                                                                                         comment_text  \\\n",
       "0                                                                                                                                                                                                                                                                                                                                                                           Explanation\\nWhy the edits made under my username Hardcore Metallica Fan were reverted? They weren't vandalisms, just closure on some GAs after I voted at New York Dolls FAC. And please don't remove the template from the talk page since I'm retired now.89.205.38.27   \n",
       "1                                                                                                                                                                                                                                                                                                                                                                                                                                                                                                                                    D'aww! He matches this background colour I'm seemingly stuck with. Thanks.  (talk) 21:51, January 11, 2016 (UTC)   \n",
       "2                                                                                                                                                                                                                                                                                                                                                                                                           Hey man, I'm really not trying to edit war. It's just that this guy is constantly removing relevant information and talking to me through edits instead of my talk page. He seems to care more about the formatting than the actual info.   \n",
       "3  \"\\nMore\\nI can't make any real suggestions on improvement - I wondered if the section statistics should be later on, or a subsection of \"\"types of accidents\"\"  -I think the references may need tidying so that they are all in the exact same format ie date format etc. I can do that later on, if no-one else does first - if you have any preferences for formatting style on references or want to do it yourself please let me know.\\n\\nThere appears to be a backlog on articles for review so I guess there may be a delay until a reviewer turns up. It's listed in the relevant form eg Wikipedia:Good_article_nominations#Transport  \"   \n",
       "4                                                                                                                                                                                                                                                                                                                                                                                                                                                                                                                                                                                 You, sir, are my hero. Any chance you remember what page that's on?   \n",
       "\n",
       "   toxic  severe_toxic  obscene  threat  insult  identity_hate  \n",
       "0      0             0        0       0       0              0  \n",
       "1      0             0        0       0       0              0  \n",
       "2      0             0        0       0       0              0  \n",
       "3      0             0        0       0       0              0  \n",
       "4      0             0        0       0       0              0  "
      ]
     },
     "execution_count": 3,
     "metadata": {},
     "output_type": "execute_result"
    }
   ],
   "source": [
    "train.head()"
   ]
  },
  {
   "cell_type": "markdown",
   "metadata": {},
   "source": [
    "# Cleaning Data"
   ]
  },
  {
   "cell_type": "markdown",
   "metadata": {},
   "source": [
    "Title is removed. not"
   ]
  },
  {
   "cell_type": "code",
   "execution_count": 4,
   "metadata": {},
   "outputs": [
    {
     "data": {
      "text/html": [
       "<div>\n",
       "<style scoped>\n",
       "    .dataframe tbody tr th:only-of-type {\n",
       "        vertical-align: middle;\n",
       "    }\n",
       "\n",
       "    .dataframe tbody tr th {\n",
       "        vertical-align: top;\n",
       "    }\n",
       "\n",
       "    .dataframe thead th {\n",
       "        text-align: right;\n",
       "    }\n",
       "</style>\n",
       "<table border=\"1\" class=\"dataframe\">\n",
       "  <thead>\n",
       "    <tr style=\"text-align: right;\">\n",
       "      <th></th>\n",
       "      <th>id</th>\n",
       "      <th>comment_text</th>\n",
       "      <th>toxic</th>\n",
       "      <th>severe_toxic</th>\n",
       "      <th>obscene</th>\n",
       "      <th>threat</th>\n",
       "      <th>insult</th>\n",
       "      <th>identity_hate</th>\n",
       "    </tr>\n",
       "  </thead>\n",
       "  <tbody>\n",
       "    <tr>\n",
       "      <th>49323</th>\n",
       "      <td>83e37ee1eb4be93e</td>\n",
       "      <td>\"== Blocked as a sockpuppet ==\\n\"</td>\n",
       "      <td>1</td>\n",
       "      <td>0</td>\n",
       "      <td>0</td>\n",
       "      <td>0</td>\n",
       "      <td>0</td>\n",
       "      <td>0</td>\n",
       "    </tr>\n",
       "  </tbody>\n",
       "</table>\n",
       "</div>"
      ],
      "text/plain": [
       "                     id                       comment_text  toxic  \\\n",
       "49323  83e37ee1eb4be93e  \"== Blocked as a sockpuppet ==\\n\"      1   \n",
       "\n",
       "       severe_toxic  obscene  threat  insult  identity_hate  \n",
       "49323             0        0       0       0              0  "
      ]
     },
     "execution_count": 4,
     "metadata": {},
     "output_type": "execute_result"
    }
   ],
   "source": [
    "train[train['id'] == '83e37ee1eb4be93e']"
   ]
  },
  {
   "cell_type": "code",
   "execution_count": 5,
   "metadata": {},
   "outputs": [
    {
     "data": {
      "text/plain": [
       "29    \"== A barnstar for you! ==\\n\\n  The Real Life Barnstar lets us be the stars\\n   \"\n",
       "Name: comment_text, dtype: object"
      ]
     },
     "execution_count": 5,
     "metadata": {},
     "output_type": "execute_result"
    }
   ],
   "source": [
    "train[train['comment_text'].str.contains(r'==.*==\\n', regex=True)]['comment_text'].head(1)"
   ]
  },
  {
   "cell_type": "code",
   "execution_count": 6,
   "metadata": {},
   "outputs": [],
   "source": [
    "train['comment_text'] = train['comment_text'].replace({r'\\n': '.', r'==': ''}, regex=True)"
   ]
  },
  {
   "cell_type": "markdown",
   "metadata": {},
   "source": [
    "# Dublicated values"
   ]
  },
  {
   "cell_type": "code",
   "execution_count": 7,
   "metadata": {},
   "outputs": [
    {
     "data": {
      "text/html": [
       "<div>\n",
       "<style scoped>\n",
       "    .dataframe tbody tr th:only-of-type {\n",
       "        vertical-align: middle;\n",
       "    }\n",
       "\n",
       "    .dataframe tbody tr th {\n",
       "        vertical-align: top;\n",
       "    }\n",
       "\n",
       "    .dataframe thead th {\n",
       "        text-align: right;\n",
       "    }\n",
       "</style>\n",
       "<table border=\"1\" class=\"dataframe\">\n",
       "  <thead>\n",
       "    <tr style=\"text-align: right;\">\n",
       "      <th></th>\n",
       "      <th>id</th>\n",
       "      <th>comment_text</th>\n",
       "      <th>toxic</th>\n",
       "      <th>severe_toxic</th>\n",
       "      <th>obscene</th>\n",
       "      <th>threat</th>\n",
       "      <th>insult</th>\n",
       "      <th>identity_hate</th>\n",
       "    </tr>\n",
       "  </thead>\n",
       "  <tbody>\n",
       "    <tr>\n",
       "      <th>45381</th>\n",
       "      <td>7959f269d6d08626</td>\n",
       "      <td>Blocked.I am blocked by what I consider to be immature aggression by  abusing his perogatives. I would like for him to remove the block and, if he feels it is absoloutely necessary to have me blocked to have it done by a neutral third party.</td>\n",
       "      <td>0</td>\n",
       "      <td>0</td>\n",
       "      <td>0</td>\n",
       "      <td>0</td>\n",
       "      <td>0</td>\n",
       "      <td>0</td>\n",
       "    </tr>\n",
       "    <tr>\n",
       "      <th>130949</th>\n",
       "      <td>bca271fe50a87e06</td>\n",
       "      <td>Blocked.I am blocked by what I consider to be immature aggression by  abusing his perogatives. I would like for him to remove the block and, if he feels it is absoloutely necessary to have me blocked to have it done by a neutral third party.</td>\n",
       "      <td>0</td>\n",
       "      <td>0</td>\n",
       "      <td>0</td>\n",
       "      <td>0</td>\n",
       "      <td>0</td>\n",
       "      <td>0</td>\n",
       "    </tr>\n",
       "  </tbody>\n",
       "</table>\n",
       "</div>"
      ],
      "text/plain": [
       "                      id  \\\n",
       "45381   7959f269d6d08626   \n",
       "130949  bca271fe50a87e06   \n",
       "\n",
       "                                                                                                                                                                                                                                             comment_text  \\\n",
       "45381   Blocked.I am blocked by what I consider to be immature aggression by  abusing his perogatives. I would like for him to remove the block and, if he feels it is absoloutely necessary to have me blocked to have it done by a neutral third party.   \n",
       "130949  Blocked.I am blocked by what I consider to be immature aggression by  abusing his perogatives. I would like for him to remove the block and, if he feels it is absoloutely necessary to have me blocked to have it done by a neutral third party.   \n",
       "\n",
       "        toxic  severe_toxic  obscene  threat  insult  identity_hate  \n",
       "45381       0             0        0       0       0              0  \n",
       "130949      0             0        0       0       0              0  "
      ]
     },
     "execution_count": 7,
     "metadata": {},
     "output_type": "execute_result"
    }
   ],
   "source": [
    "train[train.duplicated(['comment_text'], keep=False)]"
   ]
  },
  {
   "cell_type": "code",
   "execution_count": 8,
   "metadata": {},
   "outputs": [],
   "source": [
    "train = train[~train.duplicated(['comment_text'])]"
   ]
  },
  {
   "cell_type": "code",
   "execution_count": 9,
   "metadata": {},
   "outputs": [
    {
     "data": {
      "text/plain": [
       "(159570, 8)"
      ]
     },
     "execution_count": 9,
     "metadata": {},
     "output_type": "execute_result"
    }
   ],
   "source": [
    "train.shape"
   ]
  },
  {
   "cell_type": "markdown",
   "metadata": {},
   "source": [
    "## Time stamps"
   ]
  },
  {
   "cell_type": "code",
   "execution_count": 49,
   "metadata": {},
   "outputs": [
    {
     "data": {
      "text/plain": [
       "\"D'aww! He matches this background colour I'm seemingly stuck with. Thanks.\""
      ]
     },
     "execution_count": 49,
     "metadata": {},
     "output_type": "execute_result"
    }
   ],
   "source": [
    "combined_pattern = (\n",
    "    r'\\b\\d{1,2}, \\d{1,2} [A-Za-z]{3,10} \\d{4}\\b|'  # \"31, 19 July 2006\"\n",
    "    r'\\b\\d{1,2} \\d{1,2} [A-Za-z]{3,10} \\d{4}\\b|'  # \"31 19 July 2006\"\n",
    "    r'\\b\\d{1,2} [A-Za-z]{3,10}, \\d{4}\\b|'  # \"31 July, 2006\"\n",
    "    r'\\b\\d{1,2} [A-Za-z]{3,10} \\d{4}\\b|'  # \"31 July 2006\"\n",
    "    r'\\b\\d{1,2}, [A-Za-z]{3,10} \\d{4}, \\d{1,2}:\\d{2}\\b|'  # \"31, July 2006, 18:47\"\n",
    "    r'\\b\\d{1,2} [A-Za-z]{3,10} \\d{4}, \\d{1,2}:\\d{2}\\b|'  # \"31 July 2006, 18:47\"\n",
    "    r'\\b\\d{1,2} [A-Za-z]{3,10} \\d{4} \\d{1,2}:\\d{2}\\b|'  # \"31 July 2006 18:47\"\n",
    "    r'\\b\\d{1,2}:\\d{2}, [A-Za-z]{3,10} \\d{1,2}, \\d{4}\\b|'  # \"18:47, July 31, 2006\"\n",
    "    r'\\b\\d{1,2}:\\d{2}, \\d{1,2} [A-Za-z]{3,10} \\d{4}\\b|'  # \"18:47, 31 July 2006\"\n",
    "    r'\\b\\d{1,2}:\\d{2} \\d{1,2} [A-Za-z]{3,10} \\d{4}\\b|'  # \"18:47 31 July 2006\"\n",
    "    r'\\b\\d{1,2} [A-Za-z]{3,10} \\d{1,2}:\\d{2}\\b|' # \"26 July 17:03 UTC\"\n",
    "    r'\\b\\d{1,3}\\.\\d{1,3}\\.\\d{1,3}\\.\\d{1,3}\\b|' # API adress\n",
    "    r'\\(UTC\\)|\\(talk\\)|\\(\\)|'\n",
    "    r'(talk.*)|'\n",
    "    r'Preceding unsigned comment added by'\n",
    ")\n",
    "\n",
    "\n",
    "# Remove the date pattern from the 'comment_text' column\n",
    "train['comment_text_cleaned'] = train['comment_text'].str.replace(combined_pattern, '', regex=True).str.strip()\n",
    "\n",
    "train['comment_text_cleaned'].iloc[1]"
   ]
  },
  {
   "cell_type": "code",
   "execution_count": 50,
   "metadata": {},
   "outputs": [],
   "source": [
    "train = train[train['comment_text_cleaned'] != '']"
   ]
  },
  {
   "cell_type": "markdown",
   "metadata": {},
   "source": [
    "# English leters"
   ]
  },
  {
   "cell_type": "code",
   "execution_count": 51,
   "metadata": {},
   "outputs": [],
   "source": [
    "def remove_non_ascii(text):\n",
    "    return ''.join([char for char in text if ord(char) <= 127])\n",
    "\n",
    "train['cleaned_text'] = train['comment_text_cleaned'].apply(remove_non_ascii)"
   ]
  },
  {
   "cell_type": "code",
   "execution_count": 52,
   "metadata": {},
   "outputs": [],
   "source": [
    "train['cleaned_text'] = train['cleaned_text'].str.lstrip(' ').str.lstrip('\"').str.lstrip('.').str.lstrip('(')\n",
    "train['cleaned_text'] = train['cleaned_text'].replace({'USER': '', 'User': '', 'REDIRECT User': ''})\n",
    "train['cleaned_text'] = train['cleaned_text'].str.lstrip(' ').str.lstrip('\"').str.lstrip('.').str.lstrip('(')\n",
    "train = train[train['cleaned_text'] != '']"
   ]
  },
  {
   "cell_type": "code",
   "execution_count": 53,
   "metadata": {},
   "outputs": [
    {
     "data": {
      "text/html": [
       "<div>\n",
       "<style scoped>\n",
       "    .dataframe tbody tr th:only-of-type {\n",
       "        vertical-align: middle;\n",
       "    }\n",
       "\n",
       "    .dataframe tbody tr th {\n",
       "        vertical-align: top;\n",
       "    }\n",
       "\n",
       "    .dataframe thead th {\n",
       "        text-align: right;\n",
       "    }\n",
       "</style>\n",
       "<table border=\"1\" class=\"dataframe\">\n",
       "  <thead>\n",
       "    <tr style=\"text-align: right;\">\n",
       "      <th></th>\n",
       "      <th>cleaned_text</th>\n",
       "    </tr>\n",
       "  </thead>\n",
       "  <tbody>\n",
       "    <tr>\n",
       "      <th>1233</th>\n",
       "      <td>Please stop. If you continue to vandalize Wikipedia, you will be blocked from editing.</td>\n",
       "    </tr>\n",
       "    <tr>\n",
       "      <th>1736</th>\n",
       "      <td>Welcome!..Hello, , and welcome to Wikipedia! Thank you for your contributions. I hope you like the place and decide to stay. Here are some pages that you might find helpful:.The five pillars of Wikipedia.How to edit a page.Help pages.Tutorial.How to write a great article.Manual of Style.I hope you enjoy editing here and being a Wikipedian! Please sign your name on</td>\n",
       "    </tr>\n",
       "    <tr>\n",
       "      <th>3353</th>\n",
       "      <td>Welcome..Hello, and welcome to Wikipedia! Thank you for your contributions. I hope you like the place and decide to stay. Here are some pages you might like to see:.. The five pillars of Wikipedia. How to edit a page. Help pages. Tutorial. How to write a great article. Manual of Style..You are welcome to continue editing articles without logging in, but you may wish to [ create an account]. Doing so is free, requires no personal information, and provides several benefits. If you edit without a username, your IP address  is used to identify you instead...In any case, I hope you enjoy editing here and being a Wikipedian! Please sign your comments on</td>\n",
       "    </tr>\n",
       "    <tr>\n",
       "      <th>4927</th>\n",
       "      <td>Welcome!..Welcome to Wikipedia, !  My name is Ryan, aka . I noticed that you were new and haven't received any messages yet. I just wanted to see how you were doing. Wikipedia can be a little intimidating at first, since it uses different formatting than other sites that use HTML and CSS. In the long run, though, you'll find that the WikiSyntax is a lot easier and faster than those other ways. Here are a few links to get you started:..How to edit a page.Editing, policy, conduct, and structure tutorial.Picture tutorial.How to write a great article..There are a lot of policies and guides to read, but I highly recommend reading over those first. If you have any questions, feel free to leave me a message on my</td>\n",
       "    </tr>\n",
       "    <tr>\n",
       "      <th>5926</th>\n",
       "      <td>Welcome..Hello, and welcome to Wikipedia! Thank you for your contributions. I hope you like the place and decide to stay. Here are a few good links for newcomers:.. The five pillars of Wikipedia. How to edit a page. Help pages. Tutorial. How to write a great article. Manual of Style..Here are some other hints and tips:.. I would recommend that you get a username.  You don't have to log in to read or edit articles on Wikipedia, but creating an account is quick, free and non-intrusive, requires no personal information, and there are many benefits of having a username.  (If you edit without a username, your IP address is used to identify you instead.). When using</td>\n",
       "    </tr>\n",
       "    <tr>\n",
       "      <th>6448</th>\n",
       "      <td>Editing pages ..To anyone who reads Dmacks'</td>\n",
       "    </tr>\n",
       "    <tr>\n",
       "      <th>7491</th>\n",
       "      <td>You</td>\n",
       "    </tr>\n",
       "    <tr>\n",
       "      <th>7572</th>\n",
       "      <td>It might not have been your intention, but your recent edit removed content from . Please be careful not to remove content from Wikipedia without a valid reason, which you should specify in the edit summary or on the article's</td>\n",
       "    </tr>\n",
       "    <tr>\n",
       "      <th>8634</th>\n",
       "      <td>{| style=\"\"background-color:#F5FFFA; padding:0;\"\" cellpadding=\"\"0\"\".|style=\"\"border:1px solid #084080; background-color:#F5FFFA; vertical-align:top; color:#000000;\"\"|. Hello, ! Welcome to Wikipedia! Thank you for your contributions to this free encyclopedia. If you decide that you need help, check out Getting Help below, ask me on , or place  on your</td>\n",
       "    </tr>\n",
       "    <tr>\n",
       "      <th>9258</th>\n",
       "      <td>Please do not vandalize pages, as you did with this edit to User</td>\n",
       "    </tr>\n",
       "    <tr>\n",
       "      <th>9963</th>\n",
       "      <td>]].Hello, , and welcome to Wikipedia! I hope you like the place and decide to stay. Here are some pages you might find helpful:.Introduction.The five pillars of Wikipedia.How to edit a page.How to write a great article.Manual of Style.Also feel free to make test edits in the sandbox..I hope you enjoy editing here and being a Wikipedian! Please sign your name on</td>\n",
       "    </tr>\n",
       "    <tr>\n",
       "      <th>10547</th>\n",
       "      <td>[[User</td>\n",
       "    </tr>\n",
       "    <tr>\n",
       "      <th>11278</th>\n",
       "      <td>What are you</td>\n",
       "    </tr>\n",
       "    <tr>\n",
       "      <th>12523</th>\n",
       "      <td>| Talk</td>\n",
       "    </tr>\n",
       "    <tr>\n",
       "      <th>12933</th>\n",
       "      <td>The preceding unsigned comment was added by  (</td>\n",
       "    </tr>\n",
       "    <tr>\n",
       "      <th>13022</th>\n",
       "      <td>This</td>\n",
       "    </tr>\n",
       "    <tr>\n",
       "      <th>13515</th>\n",
       "      <td>Please stop. If you continue to vandalize Wikipedia, you will be blocked from editing.</td>\n",
       "    </tr>\n",
       "    <tr>\n",
       "      <th>13551</th>\n",
       "      <td>The Signpost:  .. Read this Signpost in full. Single-page. Unsubscribe.   .\"</td>\n",
       "    </tr>\n",
       "    <tr>\n",
       "      <th>13774</th>\n",
       "      <td>Welcome!..Hello, , and welcome to Wikipedia! Thank you for your contributions. I hope you like the place and decide to stay. Here are a few good links for newcomers:.The five pillars of Wikipedia.How to edit a page.Help pages.Tutorial.How to write a great article.Manual of Style.I hope you enjoy editing here and being a Wikipedian! Please sign your name on</td>\n",
       "    </tr>\n",
       "    <tr>\n",
       "      <th>14235</th>\n",
       "      <td>Maybe you should look up what harassment is.  Please change the reasoning for my block to something respectable that deals with the situation at hand.  I did not harrass you in any way, shape, or form.  I asked you to fuck off in the context of my user</td>\n",
       "    </tr>\n",
       "    <tr>\n",
       "      <th>15110</th>\n",
       "      <td>Responded at your</td>\n",
       "    </tr>\n",
       "    <tr>\n",
       "      <th>15342</th>\n",
       "      <td>My</td>\n",
       "    </tr>\n",
       "    <tr>\n",
       "      <th>15796</th>\n",
       "      <td>Your message on my</td>\n",
       "    </tr>\n",
       "    <tr>\n",
       "      <th>15939</th>\n",
       "      <td>S</td>\n",
       "    </tr>\n",
       "    <tr>\n",
       "      <th>17573</th>\n",
       "      <td>Please do not add nonsense to Wikipedia. It is considered vandalism. If you would like to experiment, use the sandbox. Thank you.</td>\n",
       "    </tr>\n",
       "    <tr>\n",
       "      <th>18675</th>\n",
       "      <td>Please do not add inappropriate external links to Wikipedia. Wikipedia is not a mere directory of links nor should it be used for advertising or promotion.  Inappropriate links include (but are not limited to) links to personal web sites, links to web sites with which you are affiliated, and links that exist to attract visitors to a web site or promote a product.  See the external links guideline and spam policies for further explanations of links that are considered appropriate.  If you feel the link should be added to the article, then please discuss it on the article's</td>\n",
       "    </tr>\n",
       "    <tr>\n",
       "      <th>19940</th>\n",
       "      <td>Welcome!..Hello, , and welcome to Wikipedia! Thank you for your contributions. I hope you like the place and decide to stay. If you are stuck, and looking for help, please come to the Wikipedia Boot Camp, where experienced Wikipedians can answer any queries you have! Or, you can just type {{helpme}} on your user</td>\n",
       "    </tr>\n",
       "    <tr>\n",
       "      <th>20038</th>\n",
       "      <td>You currently appear to be engaged in an edit war. Note that the three-revert rule prohibits making more than three reversions on a single page within a 24 hour period. Additionally, users who perform a large number of reversions in content disputes may be blocked for edit warring, even if they do not technically violate the three-revert rule. If you continue, you may be blocked from editing. Please do not repeatedly revert edits, but use the</td>\n",
       "    </tr>\n",
       "    <tr>\n",
       "      <th>20356</th>\n",
       "      <td>Thanks for experimenting with Wikipedia. Your test worked, and has now been removed. Please use Wikipedia:Sandbox for any other tests you want to do, since testing material in articles will normally be removed quickly. Please see the welcome page if you would like to learn more about contributing to our encyclopedia. Thanks.   | Talk</td>\n",
       "    </tr>\n",
       "    <tr>\n",
       "      <th>20487</th>\n",
       "      <td>Welcome!..Hello, and welcome to Wikipedia! Thank you for your contributions. I hope you like the place and decide to stay. Here are some pages you might like to see:.. The five pillars of Wikipedia. Help pages. Tutorial. How to edit a page and How to develop articles. How to create your first article (using the Article Wizard if you wish). Manual of Style..You are welcome to continue editing without logging in, but many editors recommend that you [ create an account]. Doing so is free, requires no personal information, and provides several benefits such as the ability to create articles. For a full outline and explanation of the benefits that come with creating an account, please see this page. If you edit without a username, your IP address () is used to identify you instead...In any case, I hope you enjoy editing here and being a Wikipedian! Please sign your comments on</td>\n",
       "    </tr>\n",
       "    <tr>\n",
       "      <th>21943</th>\n",
       "      <td>{| class=\"\"messagebox standard-</td>\n",
       "    </tr>\n",
       "    <tr>\n",
       "      <th>22273</th>\n",
       "      <td>December 2008 . You currently appear to be engaged in an edit war. Note that the three-revert rule prohibits making more than three reversions on a single page within a 24 hour period. Additionally, users who perform a large number of reversions in content disputes may be blocked for edit warring, even if they do not technically violate the three-revert rule. If you continue, you may be blocked from editing. Please do not repeatedly revert edits, but use the</td>\n",
       "    </tr>\n",
       "    <tr>\n",
       "      <th>22352</th>\n",
       "      <td>style=\"\"font-size: smaller;\"\" class=\"\"autosigned\"\"&gt;</td>\n",
       "    </tr>\n",
       "    <tr>\n",
       "      <th>22736</th>\n",
       "      <td>http://en.wikipedia.org/w/index.php?title=User_</td>\n",
       "    </tr>\n",
       "    <tr>\n",
       "      <th>22746</th>\n",
       "      <td>Welcome!..Hello, , and welcome to Wikipedia!  I hope you like the place and decide to stay. Unfortunately, one or more of the pages you created may not conform to some of Wikipedia's guidelines for page creation, and may soon be deleted (if it hasn't already). ..There's a page about creating articles you may want to read called Your first article. If you are stuck, and looking for help, please come to the New contributors' help page, where experienced Wikipedians can answer any queries you have! Or, you can just type  on your user page, and someone will show up shortly to answer your questions. Here are a few other good links for newcomers:.Your first article.Biographies of living persons.How to write a great article.The five pillars of Wikipedia.Help pages.Tutorial.I hope you enjoy editing here and being a Wikipedian! Please sign your name on</td>\n",
       "    </tr>\n",
       "    <tr>\n",
       "      <th>22878</th>\n",
       "      <td>I replied on your</td>\n",
       "    </tr>\n",
       "    <tr>\n",
       "      <th>23554</th>\n",
       "      <td>Welcome..Hello and welcome to Wikipedia!  We appreciate encyclopedic contributions, but some of your recent edits do not conform to our policies.  For more information on this, see Wikipedia's policies on vandalism and limits on acceptable additions. If you'd like to experiment with the wiki's syntax, please do so in the \"\"sandbox\"\" rather than in articles...If you still have questions, there is a new contributor's help page, or you can write {{helpme}} below this message along with a question and someone will be along to answer it shortly.  You may also find the following pages useful for a general introduction to Wikipedia..The five pillars of Wikipedia.Help pages.Tutorial.I hope you enjoy editing and being a Wikipedian!  Please sign your name on</td>\n",
       "    </tr>\n",
       "    <tr>\n",
       "      <th>24649</th>\n",
       "      <td>Your request to be unblocked has been granted for the following reason(s):.reason..Request handled by:  .. Unblocking administrator: Please check for active autoblocks on this user after accepting the unblock request.\"</td>\n",
       "    </tr>\n",
       "    <tr>\n",
       "      <th>26465</th>\n",
       "      <td>This is my</td>\n",
       "    </tr>\n",
       "    <tr>\n",
       "      <th>26590</th>\n",
       "      <td>Welcome!..Hello, , and welcome to Wikipedia! Thank you for your contributions. I hope you like the place and decide to stay. Here are some pages that you might find helpful:.The five pillars of Wikipedia.Tutorial.How to edit a page.How to write a great article.Manual of Style.I hope you enjoy editing here and being a Wikipedian! Please sign your messages on discussion pages using four tildes (~~~~); this will automatically insert your username and the date. If you need help, check out Wikipedia:Questions, ask me on , or ask your question and then place {{helpme}} before the question on your</td>\n",
       "    </tr>\n",
       "    <tr>\n",
       "      <th>26959</th>\n",
       "      <td>Please do not add nonsense to Wikipedia. It is considered vandalism. If you would like to experiment, use the sandbox. Thank you.   (</td>\n",
       "    </tr>\n",
       "    <tr>\n",
       "      <th>27122</th>\n",
       "      <td>Thank you for experimenting with Wikipedia. Your test worked, and has been reverted or removed. Please use the sandbox for any other tests you want to do. Take a look at the welcome page if you would like to learn more about contributing to our encyclopedia.</td>\n",
       "    </tr>\n",
       "    <tr>\n",
       "      <th>27205</th>\n",
       "      <td>Welcome!..Hello, and welcome to Wikipedia. Thank you for your contributions...Currently, you are editing without a username. You can continue to do so, as you are not required to log in to Wikipedia to read and edit articles; however, logging in will result in a username being shown instead of your IP address (yours is ). Logging in does not require any personal details, and there are many other benefits for logging in...When you edit pages:.. Please respect others' copyrights; do not copy and paste the contents from webpages directly.. Please use a neutral point of view when editing articles; this is possibly the most important Wikipedia policy.. If you are testing, please use the Sandbox to do so. . Do not add unreasonable contents into any articles, such as copyrighted text, advertisement messages, and text that is not related to an article's subject. Adding such content or editing articles maliciously is considered vandalism...The Wikipedia Tutorial is a good place to start learning about Wikipedia. For now, if you are stuck, you can click the edit this page tab above, type {{helpme}} in the edit box, and then click Save Page; an experienced Wikipedian will be around shortly to answer any questions you may have. Also feel free to ask a question on . I will answer your questions as far as I can! Thank you again for contributing to Wikipedia.  \"</td>\n",
       "    </tr>\n",
       "    <tr>\n",
       "      <th>27379</th>\n",
       "      <td>Please stop your disruptive editing. If your vandalism continues, you will be blocked from editing Wikipedia.</td>\n",
       "    </tr>\n",
       "    <tr>\n",
       "      <th>27482</th>\n",
       "      <td>Your s</td>\n",
       "    </tr>\n",
       "    <tr>\n",
       "      <th>29348</th>\n",
       "      <td>my</td>\n",
       "    </tr>\n",
       "    <tr>\n",
       "      <th>29617</th>\n",
       "      <td>Welcome..Hello, and welcome to Wikipedia! Thank you for your contributions. I hope you like the place and decide to stay. Here are some pages you might like to see:.. The five pillars of Wikipedia. How to edit a page. Help pages. Tutorial. How to write a great article. Manual of Style..You are welcome to continue editing articles without logging in, but you may wish to [ create an account]. Doing so is free, requires no personal information, and provides several benefits such as the ability to create articles. For a full outline and explanation of the benefits that come with creating an account, please see this page. If you edit without a username, your IP address  is used to identify you instead...In any case, I hope you enjoy editing here and being a Wikipedian! Please sign your comments on</td>\n",
       "    </tr>\n",
       "    <tr>\n",
       "      <th>29723</th>\n",
       "      <td>UTC eh? ..There once was a 'pedian from doylestownNaN But it was easy to enquire When s-protection would expire   And quietly begin a count down. RELEASED UNDER DA CREATIVE COMMONS SHARE ALIKE LICENCE BY UHHHHH INDUSTRIES. =Anyway=.I can once again make it EXTREMELY clear that I am not a massive fan of da graceful slick nor his aiders or abettors.</td>\n",
       "    </tr>\n",
       "    <tr>\n",
       "      <th>29936</th>\n",
       "      <td>)  (UTC</td>\n",
       "    </tr>\n",
       "    <tr>\n",
       "      <th>30224</th>\n",
       "      <td>|</td>\n",
       "    </tr>\n",
       "  </tbody>\n",
       "</table>\n",
       "</div>"
      ],
      "text/plain": [
       "                                                                                                                                                                                                                                                                                                                                                                                                                                                                                                                                                                                                                                                                                                                                                                                                                                                                                                                                                                                                                                                                                                                                                                                                                                                                                                                                                                                                                    cleaned_text\n",
       "1233                                                                                                                                                                                                                                                                                                                                                                                                                                                                                                                                                                                                                                                                                                                                                                                                                                                                                                                                                                                                                                                                                                                                                                                                                                                                                                                                      Please stop. If you continue to vandalize Wikipedia, you will be blocked from editing.\n",
       "1736                                                                                                                                                                                                                                                                                                                                                                                                                                                                                                                                                                                                                                                                                                                                                                                                                                                                                                                                                                                                                                              Welcome!..Hello, , and welcome to Wikipedia! Thank you for your contributions. I hope you like the place and decide to stay. Here are some pages that you might find helpful:.The five pillars of Wikipedia.How to edit a page.Help pages.Tutorial.How to write a great article.Manual of Style.I hope you enjoy editing here and being a Wikipedian! Please sign your name on\n",
       "3353                                                                                                                                                                                                                                                                                                                                                                                                                                                                                                                                                                                                                                                                                                                                             Welcome..Hello, and welcome to Wikipedia! Thank you for your contributions. I hope you like the place and decide to stay. Here are some pages you might like to see:.. The five pillars of Wikipedia. How to edit a page. Help pages. Tutorial. How to write a great article. Manual of Style..You are welcome to continue editing articles without logging in, but you may wish to [ create an account]. Doing so is free, requires no personal information, and provides several benefits. If you edit without a username, your IP address  is used to identify you instead...In any case, I hope you enjoy editing here and being a Wikipedian! Please sign your comments on\n",
       "4927                                                                                                                                                                                                                                                                                                                                                                                                                                                                                                                                                                                                                                                                                 Welcome!..Welcome to Wikipedia, !  My name is Ryan, aka . I noticed that you were new and haven't received any messages yet. I just wanted to see how you were doing. Wikipedia can be a little intimidating at first, since it uses different formatting than other sites that use HTML and CSS. In the long run, though, you'll find that the WikiSyntax is a lot easier and faster than those other ways. Here are a few links to get you started:..How to edit a page.Editing, policy, conduct, and structure tutorial.Picture tutorial.How to write a great article..There are a lot of policies and guides to read, but I highly recommend reading over those first. If you have any questions, feel free to leave me a message on my\n",
       "5926                                                                                                                                                                                                                                                                                                                                                                                                                                                                                                                                                                                                                                                                                                                                Welcome..Hello, and welcome to Wikipedia! Thank you for your contributions. I hope you like the place and decide to stay. Here are a few good links for newcomers:.. The five pillars of Wikipedia. How to edit a page. Help pages. Tutorial. How to write a great article. Manual of Style..Here are some other hints and tips:.. I would recommend that you get a username.  You don't have to log in to read or edit articles on Wikipedia, but creating an account is quick, free and non-intrusive, requires no personal information, and there are many benefits of having a username.  (If you edit without a username, your IP address is used to identify you instead.). When using\n",
       "6448                                                                                                                                                                                                                                                                                                                                                                                                                                                                                                                                                                                                                                                                                                                                                                                                                                                                                                                                                                                                                                                                                                                                                                                                                                                                                                                                                                                 Editing pages ..To anyone who reads Dmacks'\n",
       "7491                                                                                                                                                                                                                                                                                                                                                                                                                                                                                                                                                                                                                                                                                                                                                                                                                                                                                                                                                                                                                                                                                                                                                                                                                                                                                                                                                                                                                         You\n",
       "7572                                                                                                                                                                                                                                                                                                                                                                                                                                                                                                                                                                                                                                                                                                                                                                                                                                                                                                                                                                                                                                                                                                                                                                                          It might not have been your intention, but your recent edit removed content from . Please be careful not to remove content from Wikipedia without a valid reason, which you should specify in the edit summary or on the article's\n",
       "8634                                                                                                                                                                                                                                                                                                                                                                                                                                                                                                                                                                                                                                                                                                                                                                                                                                                                                                                                                                                                                                                            {| style=\"\"background-color:#F5FFFA; padding:0;\"\" cellpadding=\"\"0\"\".|style=\"\"border:1px solid #084080; background-color:#F5FFFA; vertical-align:top; color:#000000;\"\"|. Hello, ! Welcome to Wikipedia! Thank you for your contributions to this free encyclopedia. If you decide that you need help, check out Getting Help below, ask me on , or place  on your\n",
       "9258                                                                                                                                                                                                                                                                                                                                                                                                                                                                                                                                                                                                                                                                                                                                                                                                                                                                                                                                                                                                                                                                                                                                                                                                                                                                                                                                                            Please do not vandalize pages, as you did with this edit to User\n",
       "9963                                                                                                                                                                                                                                                                                                                                                                                                                                                                                                                                                                                                                                                                                                                                                                                                                                                                                                                                                                                                                                                 ]].Hello, , and welcome to Wikipedia! I hope you like the place and decide to stay. Here are some pages you might find helpful:.Introduction.The five pillars of Wikipedia.How to edit a page.How to write a great article.Manual of Style.Also feel free to make test edits in the sandbox..I hope you enjoy editing here and being a Wikipedian! Please sign your name on\n",
       "10547                                                                                                                                                                                                                                                                                                                                                                                                                                                                                                                                                                                                                                                                                                                                                                                                                                                                                                                                                                                                                                                                                                                                                                                                                                                                                                                                                                                                                     [[User\n",
       "11278                                                                                                                                                                                                                                                                                                                                                                                                                                                                                                                                                                                                                                                                                                                                                                                                                                                                                                                                                                                                                                                                                                                                                                                                                                                                                                                                                                                                               What are you\n",
       "12523                                                                                                                                                                                                                                                                                                                                                                                                                                                                                                                                                                                                                                                                                                                                                                                                                                                                                                                                                                                                                                                                                                                                                                                                                                                                                                                                                                                                                     | Talk\n",
       "12933                                                                                                                                                                                                                                                                                                                                                                                                                                                                                                                                                                                                                                                                                                                                                                                                                                                                                                                                                                                                                                                                                                                                                                                                                                                                                                                                                                             The preceding unsigned comment was added by  (\n",
       "13022                                                                                                                                                                                                                                                                                                                                                                                                                                                                                                                                                                                                                                                                                                                                                                                                                                                                                                                                                                                                                                                                                                                                                                                                                                                                                                                                                                                                                       This\n",
       "13515                                                                                                                                                                                                                                                                                                                                                                                                                                                                                                                                                                                                                                                                                                                                                                                                                                                                                                                                                                                                                                                                                                                                                                                                                                                                                                                                  Please stop. If you continue to vandalize Wikipedia, you will be blocked from editing.   \n",
       "13551                                                                                                                                                                                                                                                                                                                                                                                                                                                                                                                                                                                                                                                                                                                                                                                                                                                                                                                                                                                                                                                                                                                                                                                                                                                                                                                                               The Signpost:  .. Read this Signpost in full. Single-page. Unsubscribe.   .\"\n",
       "13774                                                                                                                                                                                                                                                                                                                                                                                                                                                                                                                                                                                                                                                                                                                                                                                                                                                                                                                                                                                                                                                     Welcome!..Hello, , and welcome to Wikipedia! Thank you for your contributions. I hope you like the place and decide to stay. Here are a few good links for newcomers:.The five pillars of Wikipedia.How to edit a page.Help pages.Tutorial.How to write a great article.Manual of Style.I hope you enjoy editing here and being a Wikipedian! Please sign your name on\n",
       "14235                                                                                                                                                                                                                                                                                                                                                                                                                                                                                                                                                                                                                                                                                                                                                                                                                                                                                                                                                                                                                                                                                                                                                               Maybe you should look up what harassment is.  Please change the reasoning for my block to something respectable that deals with the situation at hand.  I did not harrass you in any way, shape, or form.  I asked you to fuck off in the context of my user\n",
       "15110                                                                                                                                                                                                                                                                                                                                                                                                                                                                                                                                                                                                                                                                                                                                                                                                                                                                                                                                                                                                                                                                                                                                                                                                                                                                                                                                                                                                          Responded at your\n",
       "15342                                                                                                                                                                                                                                                                                                                                                                                                                                                                                                                                                                                                                                                                                                                                                                                                                                                                                                                                                                                                                                                                                                                                                                                                                                                                                                                                                                                                                         My\n",
       "15796                                                                                                                                                                                                                                                                                                                                                                                                                                                                                                                                                                                                                                                                                                                                                                                                                                                                                                                                                                                                                                                                                                                                                                                                                                                                                                                                                                                                         Your message on my\n",
       "15939                                                                                                                                                                                                                                                                                                                                                                                                                                                                                                                                                                                                                                                                                                                                                                                                                                                                                                                                                                                                                                                                                                                                                                                                                                                                                                                                                                                                                          S\n",
       "17573                                                                                                                                                                                                                                                                                                                                                                                                                                                                                                                                                                                                                                                                                                                                                                                                                                                                                                                                                                                                                                                                                                                                                                                                                                                                                          Please do not add nonsense to Wikipedia. It is considered vandalism. If you would like to experiment, use the sandbox. Thank you.\n",
       "18675                                                                                                                                                                                                                                                                                                                                                                                                                                                                                                                                                                                                                                                                                                                                                                                                                         Please do not add inappropriate external links to Wikipedia. Wikipedia is not a mere directory of links nor should it be used for advertising or promotion.  Inappropriate links include (but are not limited to) links to personal web sites, links to web sites with which you are affiliated, and links that exist to attract visitors to a web site or promote a product.  See the external links guideline and spam policies for further explanations of links that are considered appropriate.  If you feel the link should be added to the article, then please discuss it on the article's\n",
       "19940                                                                                                                                                                                                                                                                                                                                                                                                                                                                                                                                                                                                                                                                                                                                                                                                                                                                                                                                                                                                                                                                                                  Welcome!..Hello, , and welcome to Wikipedia! Thank you for your contributions. I hope you like the place and decide to stay. If you are stuck, and looking for help, please come to the Wikipedia Boot Camp, where experienced Wikipedians can answer any queries you have! Or, you can just type {{helpme}} on your user\n",
       "20038                                                                                                                                                                                                                                                                                                                                                                                                                                                                                                                                                                                                                                                                                                                                                                                                                                                                                                                                                             You currently appear to be engaged in an edit war. Note that the three-revert rule prohibits making more than three reversions on a single page within a 24 hour period. Additionally, users who perform a large number of reversions in content disputes may be blocked for edit warring, even if they do not technically violate the three-revert rule. If you continue, you may be blocked from editing. Please do not repeatedly revert edits, but use the\n",
       "20356                                                                                                                                                                                                                                                                                                                                                                                                                                                                                                                                                                                                                                                                                                                                                                                                                                                                                                                                                                                                                                                                            Thanks for experimenting with Wikipedia. Your test worked, and has now been removed. Please use Wikipedia:Sandbox for any other tests you want to do, since testing material in articles will normally be removed quickly. Please see the welcome page if you would like to learn more about contributing to our encyclopedia. Thanks.   | Talk\n",
       "20487                                                                                                                                                                                                                                                                                                                                                                                                                                                                                                       Welcome!..Hello, and welcome to Wikipedia! Thank you for your contributions. I hope you like the place and decide to stay. Here are some pages you might like to see:.. The five pillars of Wikipedia. Help pages. Tutorial. How to edit a page and How to develop articles. How to create your first article (using the Article Wizard if you wish). Manual of Style..You are welcome to continue editing without logging in, but many editors recommend that you [ create an account]. Doing so is free, requires no personal information, and provides several benefits such as the ability to create articles. For a full outline and explanation of the benefits that come with creating an account, please see this page. If you edit without a username, your IP address () is used to identify you instead...In any case, I hope you enjoy editing here and being a Wikipedian! Please sign your comments on\n",
       "21943                                                                                                                                                                                                                                                                                                                                                                                                                                                                                                                                                                                                                                                                                                                                                                                                                                                                                                                                                                                                                                                                                                                                                                                                                                                                                                                                                                                            {| class=\"\"messagebox standard-\n",
       "22273                                                                                                                                                                                                                                                                                                                                                                                                                                                                                                                                                                                                                                                                                                                                                                                                                                                                                                                                             December 2008 . You currently appear to be engaged in an edit war. Note that the three-revert rule prohibits making more than three reversions on a single page within a 24 hour period. Additionally, users who perform a large number of reversions in content disputes may be blocked for edit warring, even if they do not technically violate the three-revert rule. If you continue, you may be blocked from editing. Please do not repeatedly revert edits, but use the\n",
       "22352                                                                                                                                                                                                                                                                                                                                                                                                                                                                                                                                                                                                                                                                                                                                                                                                                                                                                                                                                                                                                                                                                                                                                                                                                                                                                                                                                                        style=\"\"font-size: smaller;\"\" class=\"\"autosigned\"\">\n",
       "22736                                                                                                                                                                                                                                                                                                                                                                                                                                                                                                                                                                                                                                                                                                                                                                                                                                                                                                                                                                                                                                                                                                                                                                                                                                                                                                                                                                            http://en.wikipedia.org/w/index.php?title=User_\n",
       "22746                                                                                                                                                                                                                                                                                                                                                                                                                                                                                                                                    Welcome!..Hello, , and welcome to Wikipedia!  I hope you like the place and decide to stay. Unfortunately, one or more of the pages you created may not conform to some of Wikipedia's guidelines for page creation, and may soon be deleted (if it hasn't already). ..There's a page about creating articles you may want to read called Your first article. If you are stuck, and looking for help, please come to the New contributors' help page, where experienced Wikipedians can answer any queries you have! Or, you can just type  on your user page, and someone will show up shortly to answer your questions. Here are a few other good links for newcomers:.Your first article.Biographies of living persons.How to write a great article.The five pillars of Wikipedia.Help pages.Tutorial.I hope you enjoy editing here and being a Wikipedian! Please sign your name on\n",
       "22878                                                                                                                                                                                                                                                                                                                                                                                                                                                                                                                                                                                                                                                                                                                                                                                                                                                                                                                                                                                                                                                                                                                                                                                                                                                                                                                                                                                                          I replied on your\n",
       "23554                                                                                                                                                                                                                                                                                                                                                                                                                                                                                                                                                                                                                                     Welcome..Hello and welcome to Wikipedia!  We appreciate encyclopedic contributions, but some of your recent edits do not conform to our policies.  For more information on this, see Wikipedia's policies on vandalism and limits on acceptable additions. If you'd like to experiment with the wiki's syntax, please do so in the \"\"sandbox\"\" rather than in articles...If you still have questions, there is a new contributor's help page, or you can write {{helpme}} below this message along with a question and someone will be along to answer it shortly.  You may also find the following pages useful for a general introduction to Wikipedia..The five pillars of Wikipedia.Help pages.Tutorial.I hope you enjoy editing and being a Wikipedian!  Please sign your name on\n",
       "24649                                                                                                                                                                                                                                                                                                                                                                                                                                                                                                                                                                                                                                                                                                                                                                                                                                                                                                                                                                                                                                                                                                                                                                                                 Your request to be unblocked has been granted for the following reason(s):.reason..Request handled by:  .. Unblocking administrator: Please check for active autoblocks on this user after accepting the unblock request.\"\n",
       "26465                                                                                                                                                                                                                                                                                                                                                                                                                                                                                                                                                                                                                                                                                                                                                                                                                                                                                                                                                                                                                                                                                                                                                                                                                                                                                                                                                                                                                 This is my\n",
       "26590                                                                                                                                                                                                                                                                                                                                                                                                                                                                                                                                                                                                                                                                                                                                                                                                      Welcome!..Hello, , and welcome to Wikipedia! Thank you for your contributions. I hope you like the place and decide to stay. Here are some pages that you might find helpful:.The five pillars of Wikipedia.Tutorial.How to edit a page.How to write a great article.Manual of Style.I hope you enjoy editing here and being a Wikipedian! Please sign your messages on discussion pages using four tildes (~~~~); this will automatically insert your username and the date. If you need help, check out Wikipedia:Questions, ask me on , or ask your question and then place {{helpme}} before the question on your\n",
       "26959                                                                                                                                                                                                                                                                                                                                                                                                                                                                                                                                                                                                                                                                                                                                                                                                                                                                                                                                                                                                                                                                                                                                                                                                                                                                                      Please do not add nonsense to Wikipedia. It is considered vandalism. If you would like to experiment, use the sandbox. Thank you.   (\n",
       "27122                                                                                                                                                                                                                                                                                                                                                                                                                                                                                                                                                                                                                                                                                                                                                                                                                                                                                                                                                                                                                                                                                                                                                         Thank you for experimenting with Wikipedia. Your test worked, and has been reverted or removed. Please use the sandbox for any other tests you want to do. Take a look at the welcome page if you would like to learn more about contributing to our encyclopedia.\n",
       "27205  Welcome!..Hello, and welcome to Wikipedia. Thank you for your contributions...Currently, you are editing without a username. You can continue to do so, as you are not required to log in to Wikipedia to read and edit articles; however, logging in will result in a username being shown instead of your IP address (yours is ). Logging in does not require any personal details, and there are many other benefits for logging in...When you edit pages:.. Please respect others' copyrights; do not copy and paste the contents from webpages directly.. Please use a neutral point of view when editing articles; this is possibly the most important Wikipedia policy.. If you are testing, please use the Sandbox to do so. . Do not add unreasonable contents into any articles, such as copyrighted text, advertisement messages, and text that is not related to an article's subject. Adding such content or editing articles maliciously is considered vandalism...The Wikipedia Tutorial is a good place to start learning about Wikipedia. For now, if you are stuck, you can click the edit this page tab above, type {{helpme}} in the edit box, and then click Save Page; an experienced Wikipedian will be around shortly to answer any questions you may have. Also feel free to ask a question on . I will answer your questions as far as I can! Thank you again for contributing to Wikipedia.  \"\n",
       "27379                                                                                                                                                                                                                                                                                                                                                                                                                                                                                                                                                                                                                                                                                                                                                                                                                                                                                                                                                                                                                                                                                                                                                                                                                                                                                                              Please stop your disruptive editing. If your vandalism continues, you will be blocked from editing Wikipedia.\n",
       "27482                                                                                                                                                                                                                                                                                                                                                                                                                                                                                                                                                                                                                                                                                                                                                                                                                                                                                                                                                                                                                                                                                                                                                                                                                                                                                                                                                                                                                     Your s\n",
       "29348                                                                                                                                                                                                                                                                                                                                                                                                                                                                                                                                                                                                                                                                                                                                                                                                                                                                                                                                                                                                                                                                                                                                                                                                                                                                                                                                                                                                                         my\n",
       "29617                                                                                                                                                                                                                                                                                                                                                                                                                                                                                                                                                                                        Welcome..Hello, and welcome to Wikipedia! Thank you for your contributions. I hope you like the place and decide to stay. Here are some pages you might like to see:.. The five pillars of Wikipedia. How to edit a page. Help pages. Tutorial. How to write a great article. Manual of Style..You are welcome to continue editing articles without logging in, but you may wish to [ create an account]. Doing so is free, requires no personal information, and provides several benefits such as the ability to create articles. For a full outline and explanation of the benefits that come with creating an account, please see this page. If you edit without a username, your IP address  is used to identify you instead...In any case, I hope you enjoy editing here and being a Wikipedian! Please sign your comments on\n",
       "29723                                                                                                                                                                                                                                                                                                                                                                                                                                                                                                                                                                                                                                                                                                                                                                                                                                                                                                                                                                                                                                                              UTC eh? ..There once was a 'pedian from doylestownNaN But it was easy to enquire When s-protection would expire   And quietly begin a count down. RELEASED UNDER DA CREATIVE COMMONS SHARE ALIKE LICENCE BY UHHHHH INDUSTRIES. =Anyway=.I can once again make it EXTREMELY clear that I am not a massive fan of da graceful slick nor his aiders or abettors.\n",
       "29936                                                                                                                                                                                                                                                                                                                                                                                                                                                                                                                                                                                                                                                                                                                                                                                                                                                                                                                                                                                                                                                                                                                                                                                                                                                                                                                                                                                                                    )  (UTC\n",
       "30224                                                                                                                                                                                                                                                                                                                                                                                                                                                                                                                                                                                                                                                                                                                                                                                                                                                                                                                                                                                                                                                                                                                                                                                                                                                                                                                                                                                                                          |"
      ]
     },
     "execution_count": 53,
     "metadata": {},
     "output_type": "execute_result"
    }
   ],
   "source": [
    "train[train['cleaned_text'].duplicated()][['cleaned_text']].drop_duplicates().head(50)"
   ]
  },
  {
   "cell_type": "code",
   "execution_count": 18,
   "metadata": {},
   "outputs": [],
   "source": [
    "# train = train[~train['cleaned_text'].duplicated()]"
   ]
  },
  {
   "cell_type": "code",
   "execution_count": 20,
   "metadata": {},
   "outputs": [],
   "source": [
    "train = train[~train.duplicated(['comment_text_cleaned'])]"
   ]
  },
  {
   "cell_type": "code",
   "execution_count": 21,
   "metadata": {},
   "outputs": [
    {
     "data": {
      "text/plain": [
       "(159242, 9)"
      ]
     },
     "execution_count": 21,
     "metadata": {},
     "output_type": "execute_result"
    }
   ],
   "source": [
    "train.shape"
   ]
  },
  {
   "cell_type": "code",
   "execution_count": 22,
   "metadata": {},
   "outputs": [],
   "source": [
    "train = train[train['comment_text_cleaned'] != '']"
   ]
  },
  {
   "cell_type": "code",
   "execution_count": 23,
   "metadata": {},
   "outputs": [
    {
     "data": {
      "text/plain": [
       "(159241, 9)"
      ]
     },
     "execution_count": 23,
     "metadata": {},
     "output_type": "execute_result"
    }
   ],
   "source": [
    "train.shape"
   ]
  },
  {
   "cell_type": "markdown",
   "metadata": {},
   "source": [
    "# Label Distirbution"
   ]
  },
  {
   "cell_type": "code",
   "execution_count": 24,
   "metadata": {},
   "outputs": [
    {
     "data": {
      "text/plain": [
       "89.8229727268731"
      ]
     },
     "execution_count": 24,
     "metadata": {},
     "output_type": "execute_result"
    }
   ],
   "source": [
    "train[\n",
    "    (train['toxic'] == 0)\n",
    "    &\n",
    "    (train['severe_toxic'] == 0)\n",
    "    &\n",
    "    (train['obscene'] == 0)\n",
    "    &\n",
    "    (train['threat'] == 0)\n",
    "    &\n",
    "    (train['insult'] == 0)\n",
    "    &\n",
    "    (train['identity_hate'] == 0)\n",
    "      ].shape[0] / train.shape[0] * 100"
   ]
  },
  {
   "cell_type": "code",
   "execution_count": 25,
   "metadata": {},
   "outputs": [],
   "source": [
    "train.drop(columns=['id', 'comment_text']).sum() / train.shape[0] * 100"
   ]
  }
 ],
 "metadata": {
  "kernelspec": {
   "display_name": "dswh_env",
   "language": "python",
   "name": "python3"
  },
  "language_info": {
   "codemirror_mode": {
    "name": "ipython",
    "version": 3
   },
   "file_extension": ".py",
   "mimetype": "text/x-python",
   "name": "python",
   "nbconvert_exporter": "python",
   "pygments_lexer": "ipython3",
   "version": "3.11.9"
  }
 },
 "nbformat": 4,
 "nbformat_minor": 2
}
