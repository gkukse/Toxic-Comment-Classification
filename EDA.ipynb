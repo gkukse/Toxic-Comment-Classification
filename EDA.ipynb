{
 "cells": [
  {
   "cell_type": "markdown",
   "metadata": {},
   "source": [
    "# Toxic Comment Classification"
   ]
  },
  {
   "cell_type": "code",
   "execution_count": 4,
   "metadata": {},
   "outputs": [
    {
     "name": "stdout",
     "output_type": "stream",
     "text": [
      "The autoreload extension is already loaded. To reload it, use:\n",
      "  %reload_ext autoreload\n"
     ]
    }
   ],
   "source": [
    "import pandas as pd\n",
    "import re\n",
    "import seaborn as sns\n",
    "import matplotlib.pyplot as plt\n",
    "from transformers import RobertaTokenizer\n",
    "pd.plotting.register_matplotlib_converters()\n",
    "%matplotlib inline\n",
    "\n",
    "%load_ext autoreload\n",
    "%autoreload 2\n",
    "from help_tool import help_tool\n",
    "\n",
    "\n",
    "pd.set_option('display.max_colwidth', None)"
   ]
  },
  {
   "cell_type": "markdown",
   "metadata": {},
   "source": [
    "# Cleaning the dataset\n",
    "Dataset is made from Wikipedia comments.\n",
    "* Data has no duplicates and no missing values, there's 159571 observations and 8 features\n",
    "* Dataset is made of 6 labels, where comment can have multiple labels or none\n",
    "* Some comments have timestamps, Wikipedia specific strings, in English and other languages - these will be cleaned"
   ]
  },
  {
   "cell_type": "code",
   "execution_count": 5,
   "metadata": {},
   "outputs": [
    {
     "name": "stdout",
     "output_type": "stream",
     "text": [
      "Dataset has 159571 observations and 8 features\n",
      "Columns with all empty values []\n",
      "Dataset has 0 duplicates\n"
     ]
    },
    {
     "data": {
      "text/html": [
       "<div>\n",
       "<style scoped>\n",
       "    .dataframe tbody tr th:only-of-type {\n",
       "        vertical-align: middle;\n",
       "    }\n",
       "\n",
       "    .dataframe tbody tr th {\n",
       "        vertical-align: top;\n",
       "    }\n",
       "\n",
       "    .dataframe thead th {\n",
       "        text-align: right;\n",
       "    }\n",
       "</style>\n",
       "<table border=\"1\" class=\"dataframe\">\n",
       "  <thead>\n",
       "    <tr style=\"text-align: right;\">\n",
       "      <th></th>\n",
       "      <th>dtypes</th>\n",
       "      <th>Null values, Count</th>\n",
       "      <th>Null values, %</th>\n",
       "    </tr>\n",
       "  </thead>\n",
       "  <tbody>\n",
       "    <tr>\n",
       "      <th>id</th>\n",
       "      <td>object</td>\n",
       "      <td>0</td>\n",
       "      <td>0.0</td>\n",
       "    </tr>\n",
       "    <tr>\n",
       "      <th>comment_text</th>\n",
       "      <td>object</td>\n",
       "      <td>0</td>\n",
       "      <td>0.0</td>\n",
       "    </tr>\n",
       "    <tr>\n",
       "      <th>toxic</th>\n",
       "      <td>int64</td>\n",
       "      <td>0</td>\n",
       "      <td>0.0</td>\n",
       "    </tr>\n",
       "    <tr>\n",
       "      <th>severe_toxic</th>\n",
       "      <td>int64</td>\n",
       "      <td>0</td>\n",
       "      <td>0.0</td>\n",
       "    </tr>\n",
       "    <tr>\n",
       "      <th>obscene</th>\n",
       "      <td>int64</td>\n",
       "      <td>0</td>\n",
       "      <td>0.0</td>\n",
       "    </tr>\n",
       "    <tr>\n",
       "      <th>threat</th>\n",
       "      <td>int64</td>\n",
       "      <td>0</td>\n",
       "      <td>0.0</td>\n",
       "    </tr>\n",
       "    <tr>\n",
       "      <th>insult</th>\n",
       "      <td>int64</td>\n",
       "      <td>0</td>\n",
       "      <td>0.0</td>\n",
       "    </tr>\n",
       "    <tr>\n",
       "      <th>identity_hate</th>\n",
       "      <td>int64</td>\n",
       "      <td>0</td>\n",
       "      <td>0.0</td>\n",
       "    </tr>\n",
       "  </tbody>\n",
       "</table>\n",
       "</div>"
      ],
      "text/plain": [
       "               dtypes Null values, Count Null values, %\n",
       "id             object                  0            0.0\n",
       "comment_text   object                  0            0.0\n",
       "toxic           int64                  0            0.0\n",
       "severe_toxic    int64                  0            0.0\n",
       "obscene         int64                  0            0.0\n",
       "threat          int64                  0            0.0\n",
       "insult          int64                  0            0.0\n",
       "identity_hate   int64                  0            0.0"
      ]
     },
     "execution_count": 5,
     "metadata": {},
     "output_type": "execute_result"
    }
   ],
   "source": [
    "train = help_tool.csv_download(\n",
    "    r'Archive\\train.csv')\n",
    "\n",
    "help_tool.first_look(train)"
   ]
  },
  {
   "cell_type": "code",
   "execution_count": 6,
   "metadata": {},
   "outputs": [
    {
     "data": {
      "text/html": [
       "<div>\n",
       "<style scoped>\n",
       "    .dataframe tbody tr th:only-of-type {\n",
       "        vertical-align: middle;\n",
       "    }\n",
       "\n",
       "    .dataframe tbody tr th {\n",
       "        vertical-align: top;\n",
       "    }\n",
       "\n",
       "    .dataframe thead th {\n",
       "        text-align: right;\n",
       "    }\n",
       "</style>\n",
       "<table border=\"1\" class=\"dataframe\">\n",
       "  <thead>\n",
       "    <tr style=\"text-align: right;\">\n",
       "      <th></th>\n",
       "      <th>id</th>\n",
       "      <th>comment_text</th>\n",
       "      <th>toxic</th>\n",
       "      <th>severe_toxic</th>\n",
       "      <th>obscene</th>\n",
       "      <th>threat</th>\n",
       "      <th>insult</th>\n",
       "      <th>identity_hate</th>\n",
       "    </tr>\n",
       "  </thead>\n",
       "  <tbody>\n",
       "    <tr>\n",
       "      <th>0</th>\n",
       "      <td>0000997932d777bf</td>\n",
       "      <td>Explanation\\nWhy the edits made under my username Hardcore Metallica Fan were reverted? They weren't vandalisms, just closure on some GAs after I voted at New York Dolls FAC. And please don't remove the template from the talk page since I'm retired now.89.205.38.27</td>\n",
       "      <td>0</td>\n",
       "      <td>0</td>\n",
       "      <td>0</td>\n",
       "      <td>0</td>\n",
       "      <td>0</td>\n",
       "      <td>0</td>\n",
       "    </tr>\n",
       "    <tr>\n",
       "      <th>1</th>\n",
       "      <td>000103f0d9cfb60f</td>\n",
       "      <td>D'aww! He matches this background colour I'm seemingly stuck with. Thanks.  (talk) 21:51, January 11, 2016 (UTC)</td>\n",
       "      <td>0</td>\n",
       "      <td>0</td>\n",
       "      <td>0</td>\n",
       "      <td>0</td>\n",
       "      <td>0</td>\n",
       "      <td>0</td>\n",
       "    </tr>\n",
       "    <tr>\n",
       "      <th>2</th>\n",
       "      <td>000113f07ec002fd</td>\n",
       "      <td>Hey man, I'm really not trying to edit war. It's just that this guy is constantly removing relevant information and talking to me through edits instead of my talk page. He seems to care more about the formatting than the actual info.</td>\n",
       "      <td>0</td>\n",
       "      <td>0</td>\n",
       "      <td>0</td>\n",
       "      <td>0</td>\n",
       "      <td>0</td>\n",
       "      <td>0</td>\n",
       "    </tr>\n",
       "    <tr>\n",
       "      <th>3</th>\n",
       "      <td>0001b41b1c6bb37e</td>\n",
       "      <td>\"\\nMore\\nI can't make any real suggestions on improvement - I wondered if the section statistics should be later on, or a subsection of \"\"types of accidents\"\"  -I think the references may need tidying so that they are all in the exact same format ie date format etc. I can do that later on, if no-one else does first - if you have any preferences for formatting style on references or want to do it yourself please let me know.\\n\\nThere appears to be a backlog on articles for review so I guess there may be a delay until a reviewer turns up. It's listed in the relevant form eg Wikipedia:Good_article_nominations#Transport  \"</td>\n",
       "      <td>0</td>\n",
       "      <td>0</td>\n",
       "      <td>0</td>\n",
       "      <td>0</td>\n",
       "      <td>0</td>\n",
       "      <td>0</td>\n",
       "    </tr>\n",
       "    <tr>\n",
       "      <th>4</th>\n",
       "      <td>0001d958c54c6e35</td>\n",
       "      <td>You, sir, are my hero. Any chance you remember what page that's on?</td>\n",
       "      <td>0</td>\n",
       "      <td>0</td>\n",
       "      <td>0</td>\n",
       "      <td>0</td>\n",
       "      <td>0</td>\n",
       "      <td>0</td>\n",
       "    </tr>\n",
       "  </tbody>\n",
       "</table>\n",
       "</div>"
      ],
      "text/plain": [
       "                 id  \\\n",
       "0  0000997932d777bf   \n",
       "1  000103f0d9cfb60f   \n",
       "2  000113f07ec002fd   \n",
       "3  0001b41b1c6bb37e   \n",
       "4  0001d958c54c6e35   \n",
       "\n",
       "                                                                                                                                                                                                                                                                                                                                                                                                                                                                                                                                                                                                                                         comment_text  \\\n",
       "0                                                                                                                                                                                                                                                                                                                                                                           Explanation\\nWhy the edits made under my username Hardcore Metallica Fan were reverted? They weren't vandalisms, just closure on some GAs after I voted at New York Dolls FAC. And please don't remove the template from the talk page since I'm retired now.89.205.38.27   \n",
       "1                                                                                                                                                                                                                                                                                                                                                                                                                                                                                                                                    D'aww! He matches this background colour I'm seemingly stuck with. Thanks.  (talk) 21:51, January 11, 2016 (UTC)   \n",
       "2                                                                                                                                                                                                                                                                                                                                                                                                           Hey man, I'm really not trying to edit war. It's just that this guy is constantly removing relevant information and talking to me through edits instead of my talk page. He seems to care more about the formatting than the actual info.   \n",
       "3  \"\\nMore\\nI can't make any real suggestions on improvement - I wondered if the section statistics should be later on, or a subsection of \"\"types of accidents\"\"  -I think the references may need tidying so that they are all in the exact same format ie date format etc. I can do that later on, if no-one else does first - if you have any preferences for formatting style on references or want to do it yourself please let me know.\\n\\nThere appears to be a backlog on articles for review so I guess there may be a delay until a reviewer turns up. It's listed in the relevant form eg Wikipedia:Good_article_nominations#Transport  \"   \n",
       "4                                                                                                                                                                                                                                                                                                                                                                                                                                                                                                                                                                                 You, sir, are my hero. Any chance you remember what page that's on?   \n",
       "\n",
       "   toxic  severe_toxic  obscene  threat  insult  identity_hate  \n",
       "0      0             0        0       0       0              0  \n",
       "1      0             0        0       0       0              0  \n",
       "2      0             0        0       0       0              0  \n",
       "3      0             0        0       0       0              0  \n",
       "4      0             0        0       0       0              0  "
      ]
     },
     "execution_count": 6,
     "metadata": {},
     "output_type": "execute_result"
    }
   ],
   "source": [
    "train.head()"
   ]
  },
  {
   "cell_type": "code",
   "execution_count": 7,
   "metadata": {},
   "outputs": [],
   "source": [
    "train['comment_text_original'] = train['comment_text']"
   ]
  },
  {
   "cell_type": "markdown",
   "metadata": {},
   "source": [
    "## Wikipedia specific strings\n",
    "* (talk) - Extracting the part that starts with '(talk' and ends with ')'\n",
    "* Wikipedia shortcuts and images are distinct"
   ]
  },
  {
   "cell_type": "code",
   "execution_count": 8,
   "metadata": {},
   "outputs": [
    {
     "data": {
      "text/plain": [
       "extracted_text\n",
       "(talk)                       3099\n",
       "(talk • contribs)             501\n",
       "(talk · contribs)             154\n",
       "(talk | contribs)             101\n",
       "(talk to me)                   62\n",
       "(talk · contribs)              58\n",
       "(talk|contribs)                54\n",
       "(talk · contribs · email)      48\n",
       "(talk - contribs)              38\n",
       "(talk • contrib)               34\n",
       "Name: count, dtype: int64"
      ]
     },
     "execution_count": 8,
     "metadata": {},
     "output_type": "execute_result"
    }
   ],
   "source": [
    "train['extracted_text'] = train['comment_text'].str.extract(r\"(\\(talk.*?\\))\")\n",
    "train[train['extracted_text'].notnull()]['extracted_text'].value_counts().head(10)"
   ]
  },
  {
   "cell_type": "code",
   "execution_count": 9,
   "metadata": {},
   "outputs": [],
   "source": [
    "train['comment_text'] = train['comment_text'].str.replace(\n",
    "    r\"\\(talk.*?\\)\", \"\", regex=True)"
   ]
  },
  {
   "cell_type": "code",
   "execution_count": 10,
   "metadata": {},
   "outputs": [],
   "source": [
    "train['comment_text'] = train['comment_text'].replace(\n",
    "    {'Wikipedia:': '', 'WP:': '', 'Category:': '', 'disambiguation': '', 'otheruses': ''\n",
    "     })\n",
    "\n",
    "train = train[~ train['comment_text'].str.contains(\"Navbox\")]\n",
    "\n",
    "train['comment_text'] = train['comment_text'].apply(\n",
    "    help_tool.replace_filenames)"
   ]
  },
  {
   "cell_type": "markdown",
   "metadata": {},
   "source": [
    "## Timestamps\n",
    "UTC is another highly used string."
   ]
  },
  {
   "cell_type": "code",
   "execution_count": 11,
   "metadata": {},
   "outputs": [
    {
     "data": {
      "text/html": [
       "<div>\n",
       "<style scoped>\n",
       "    .dataframe tbody tr th:only-of-type {\n",
       "        vertical-align: middle;\n",
       "    }\n",
       "\n",
       "    .dataframe tbody tr th {\n",
       "        vertical-align: top;\n",
       "    }\n",
       "\n",
       "    .dataframe thead th {\n",
       "        text-align: right;\n",
       "    }\n",
       "</style>\n",
       "<table border=\"1\" class=\"dataframe\">\n",
       "  <thead>\n",
       "    <tr style=\"text-align: right;\">\n",
       "      <th></th>\n",
       "      <th>0</th>\n",
       "    </tr>\n",
       "  </thead>\n",
       "  <tbody>\n",
       "    <tr>\n",
       "      <th>0</th>\n",
       "      <td>NaN</td>\n",
       "    </tr>\n",
       "    <tr>\n",
       "      <th>1</th>\n",
       "      <td>(UTC)</td>\n",
       "    </tr>\n",
       "    <tr>\n",
       "      <th>4598</th>\n",
       "      <td>(UTC+5:30)</td>\n",
       "    </tr>\n",
       "    <tr>\n",
       "      <th>19501</th>\n",
       "      <td>(UTC+1)</td>\n",
       "    </tr>\n",
       "    <tr>\n",
       "      <th>23640</th>\n",
       "      <td>(UTC−5)</td>\n",
       "    </tr>\n",
       "    <tr>\n",
       "      <th>24048</th>\n",
       "      <td>(UTC/GMT)</td>\n",
       "    </tr>\n",
       "    <tr>\n",
       "      <th>43415</th>\n",
       "      <td>(UTC+01)</td>\n",
       "    </tr>\n",
       "    <tr>\n",
       "      <th>61267</th>\n",
       "      <td>(UTC+0)</td>\n",
       "    </tr>\n",
       "    <tr>\n",
       "      <th>67088</th>\n",
       "      <td>(UTC−4)</td>\n",
       "    </tr>\n",
       "    <tr>\n",
       "      <th>86619</th>\n",
       "      <td>(UTC )</td>\n",
       "    </tr>\n",
       "    <tr>\n",
       "      <th>93992</th>\n",
       "      <td>(UTC +8)</td>\n",
       "    </tr>\n",
       "    <tr>\n",
       "      <th>100088</th>\n",
       "      <td>(UTC-8)</td>\n",
       "    </tr>\n",
       "    <tr>\n",
       "      <th>101359</th>\n",
       "      <td>(UTC−6)</td>\n",
       "    </tr>\n",
       "    <tr>\n",
       "      <th>102828</th>\n",
       "      <td>(UTC -06:00 right now since daylight saving time as it's called here is in effect)</td>\n",
       "    </tr>\n",
       "    <tr>\n",
       "      <th>109719</th>\n",
       "      <td>(UTC−2)</td>\n",
       "    </tr>\n",
       "    <tr>\n",
       "      <th>112608</th>\n",
       "      <td>(UTC+11)</td>\n",
       "    </tr>\n",
       "  </tbody>\n",
       "</table>\n",
       "</div>"
      ],
      "text/plain": [
       "                                                                                         0\n",
       "0                                                                                      NaN\n",
       "1                                                                                    (UTC)\n",
       "4598                                                                            (UTC+5:30)\n",
       "19501                                                                              (UTC+1)\n",
       "23640                                                                              (UTC−5)\n",
       "24048                                                                            (UTC/GMT)\n",
       "43415                                                                             (UTC+01)\n",
       "61267                                                                              (UTC+0)\n",
       "67088                                                                              (UTC−4)\n",
       "86619                                                                               (UTC )\n",
       "93992                                                                             (UTC +8)\n",
       "100088                                                                             (UTC-8)\n",
       "101359                                                                             (UTC−6)\n",
       "102828  (UTC -06:00 right now since daylight saving time as it's called here is in effect)\n",
       "109719                                                                             (UTC−2)\n",
       "112608                                                                            (UTC+11)"
      ]
     },
     "execution_count": 11,
     "metadata": {},
     "output_type": "execute_result"
    }
   ],
   "source": [
    "train['comment_text'].str.extract(r\"(\\(UTC.*?\\))\").drop_duplicates()"
   ]
  },
  {
   "cell_type": "code",
   "execution_count": 12,
   "metadata": {},
   "outputs": [],
   "source": [
    "train['comment_text'] = train['comment_text'].str.replace(\n",
    "    r\"\\(UTC.*?\\)\", \"\", regex=True)"
   ]
  },
  {
   "cell_type": "code",
   "execution_count": 13,
   "metadata": {},
   "outputs": [
    {
     "data": {
      "text/html": [
       "<div>\n",
       "<style scoped>\n",
       "    .dataframe tbody tr th:only-of-type {\n",
       "        vertical-align: middle;\n",
       "    }\n",
       "\n",
       "    .dataframe tbody tr th {\n",
       "        vertical-align: top;\n",
       "    }\n",
       "\n",
       "    .dataframe thead th {\n",
       "        text-align: right;\n",
       "    }\n",
       "</style>\n",
       "<table border=\"1\" class=\"dataframe\">\n",
       "  <thead>\n",
       "    <tr style=\"text-align: right;\">\n",
       "      <th></th>\n",
       "      <th>id</th>\n",
       "      <th>comment_text</th>\n",
       "      <th>toxic</th>\n",
       "      <th>severe_toxic</th>\n",
       "      <th>obscene</th>\n",
       "      <th>threat</th>\n",
       "      <th>insult</th>\n",
       "      <th>identity_hate</th>\n",
       "      <th>comment_text_original</th>\n",
       "      <th>extracted_text</th>\n",
       "    </tr>\n",
       "  </thead>\n",
       "  <tbody>\n",
       "    <tr>\n",
       "      <th>1</th>\n",
       "      <td>000103f0d9cfb60f</td>\n",
       "      <td>D'aww! He matches this background colour I'm seemingly stuck with. Thanks.</td>\n",
       "      <td>0</td>\n",
       "      <td>0</td>\n",
       "      <td>0</td>\n",
       "      <td>0</td>\n",
       "      <td>0</td>\n",
       "      <td>0</td>\n",
       "      <td>D'aww! He matches this background colour I'm seemingly stuck with. Thanks.  (talk) 21:51, January 11, 2016 (UTC)</td>\n",
       "      <td>(talk)</td>\n",
       "    </tr>\n",
       "  </tbody>\n",
       "</table>\n",
       "</div>"
      ],
      "text/plain": [
       "                 id  \\\n",
       "1  000103f0d9cfb60f   \n",
       "\n",
       "                                                                 comment_text  \\\n",
       "1  D'aww! He matches this background colour I'm seemingly stuck with. Thanks.   \n",
       "\n",
       "   toxic  severe_toxic  obscene  threat  insult  identity_hate  \\\n",
       "1      0             0        0       0       0              0   \n",
       "\n",
       "                                                                                              comment_text_original  \\\n",
       "1  D'aww! He matches this background colour I'm seemingly stuck with. Thanks.  (talk) 21:51, January 11, 2016 (UTC)   \n",
       "\n",
       "  extracted_text  \n",
       "1         (talk)  "
      ]
     },
     "execution_count": 13,
     "metadata": {},
     "output_type": "execute_result"
    }
   ],
   "source": [
    "combined_pattern = (\n",
    "    r'\\b(?:\\d{1,2}, \\d{1,2} [A-Za-z]{3,10} \\d{4}|'  # \"31, 19 July 2006\"\n",
    "    r'\\d{1,2} \\d{1,2} [A-Za-z]{3,10} \\d{4}|'  # \"31 19 July 2006\"\n",
    "    r'\\d{1,2} [A-Za-z]{3,10}, \\d{4}|'  # \"31 July, 2006\"\n",
    "    r'\\d{1,2} [A-Za-z]{3,10} \\d{4}|'  # \"31 July 2006\"\n",
    "    r'\\d{1,2}, [A-Za-z]{3,10} \\d{4}, \\d{1,2}:\\d{2}|'  # \"31, July 2006, 18:47\"\n",
    "    r'\\d{1,2} [A-Za-z]{3,10} \\d{4}, \\d{1,2}:\\d{2}|'  # \"31 July 2006, 18:47\"\n",
    "    r'\\d{1,2} [A-Za-z]{3,10} \\d{4} \\d{1,2}:\\d{2}|'  # \"31 July 2006 18:47\"\n",
    "    r'\\d{1,2}:\\d{2}, [A-Za-z]{3,10} \\d{1,2}, \\d{4}|'  # \"18:47, July 31, 2006\"\n",
    "    r'\\d{1,2}:\\d{2}, \\d{1,2} [A-Za-z]{3,10} \\d{4}|'  # \"18:47, 31 July 2006\"\n",
    "    r'\\d{1,2}:\\d{2} \\d{1,2} [A-Za-z]{3,10} \\d{4}|'  # \"18:47 31 July 2006\"\n",
    "    r'\\d{1,2} [A-Za-z]{3,10} \\d{1,2}:\\d{2}|'  # \"26 July 17:03 UTC\"\n",
    "    r'\\d{1,3}\\.\\d{1,3}\\.\\d{1,3}\\.\\d{1,3}\\b'  # IP address\n",
    "    r')\\b'\n",
    ")\n",
    "\n",
    "\n",
    "# Remove the date pattern from the 'comment_text' column\n",
    "train['comment_text'] = train['comment_text'].str.replace(\n",
    "    combined_pattern, '', regex=True).str.strip()\n",
    "\n",
    "train[train['id'] == '000103f0d9cfb60f']"
   ]
  },
  {
   "cell_type": "markdown",
   "metadata": {},
   "source": [
    "## Extract Information from URLs\n",
    "In some cases, the domain or specific keywords within the URL might provide context (e.g., links to specific news sites or social media platforms)"
   ]
  },
  {
   "cell_type": "code",
   "execution_count": 14,
   "metadata": {},
   "outputs": [
    {
     "data": {
      "text/html": [
       "<div>\n",
       "<style scoped>\n",
       "    .dataframe tbody tr th:only-of-type {\n",
       "        vertical-align: middle;\n",
       "    }\n",
       "\n",
       "    .dataframe tbody tr th {\n",
       "        vertical-align: top;\n",
       "    }\n",
       "\n",
       "    .dataframe thead th {\n",
       "        text-align: right;\n",
       "    }\n",
       "</style>\n",
       "<table border=\"1\" class=\"dataframe\">\n",
       "  <thead>\n",
       "    <tr style=\"text-align: right;\">\n",
       "      <th></th>\n",
       "      <th>id</th>\n",
       "      <th>comment_text</th>\n",
       "      <th>toxic</th>\n",
       "      <th>severe_toxic</th>\n",
       "      <th>obscene</th>\n",
       "      <th>threat</th>\n",
       "      <th>insult</th>\n",
       "      <th>identity_hate</th>\n",
       "      <th>comment_text_original</th>\n",
       "      <th>extracted_text</th>\n",
       "    </tr>\n",
       "  </thead>\n",
       "  <tbody>\n",
       "    <tr>\n",
       "      <th>159315</th>\n",
       "      <td>fbf8672ea3b4ddf7</td>\n",
       "      <td>nysun - public interest crap..</td>\n",
       "      <td>1</td>\n",
       "      <td>0</td>\n",
       "      <td>0</td>\n",
       "      <td>0</td>\n",
       "      <td>0</td>\n",
       "      <td>0</td>\n",
       "      <td>http://www.nysun.com/article/23698 - public interest crap..</td>\n",
       "      <td>NaN</td>\n",
       "    </tr>\n",
       "  </tbody>\n",
       "</table>\n",
       "</div>"
      ],
      "text/plain": [
       "                      id                    comment_text  toxic  severe_toxic  \\\n",
       "159315  fbf8672ea3b4ddf7  nysun - public interest crap..      1             0   \n",
       "\n",
       "        obscene  threat  insult  identity_hate  \\\n",
       "159315        0       0       0              0   \n",
       "\n",
       "                                              comment_text_original  \\\n",
       "159315  http://www.nysun.com/article/23698 - public interest crap..   \n",
       "\n",
       "       extracted_text  \n",
       "159315            NaN  "
      ]
     },
     "execution_count": 14,
     "metadata": {},
     "output_type": "execute_result"
    }
   ],
   "source": [
    "train['comment_text'] = train['comment_text'].apply(\n",
    "    help_tool.replace_url_with_domain)\n",
    "\n",
    "\n",
    "train[train['id'] == 'fbf8672ea3b4ddf7']"
   ]
  },
  {
   "cell_type": "markdown",
   "metadata": {},
   "source": [
    "## NOTs \n",
    "Updating the contractions so they don't get interpretted as the different word."
   ]
  },
  {
   "cell_type": "code",
   "execution_count": 15,
   "metadata": {},
   "outputs": [],
   "source": [
    "def expand_contractions(text):\n",
    "    contractions_dict = {\n",
    "        \"can't\": \"can not\",\n",
    "        \"won't\": \"will not\",\n",
    "        \"isn't\": \"is not\",\n",
    "        \"aren't\": \"are not\",\n",
    "        \"wasn't\": \"was not\",\n",
    "        \"weren't\": \"were not\",\n",
    "        \"hasn't\": \"has not\",\n",
    "        \"haven't\": \"have not\",\n",
    "        \"hadn't\": \"had not\",\n",
    "        \"doesn't\": \"does not\",\n",
    "        \"don't\": \"do not\",\n",
    "        \"didn't\": \"did not\",\n",
    "        \"won't\": \"will not\",\n",
    "        \"wouldn't\": \"would not\",\n",
    "        \"shouldn't\": \"should not\",\n",
    "        \"mightn't\": \"might not\",\n",
    "        \"mustn't\": \"must not\",\n",
    "        \"couldn't\": \"could not\"\n",
    "    }\n",
    "\n",
    "    # Regular expression for finding contractions\n",
    "    contractions_re = re.compile(\n",
    "        r'\\b(' + '|'.join(re.escape(key) for key in contractions_dict.keys()) + r')\\b')\n",
    "\n",
    "    # Replace contractions using the dictionary\n",
    "    expanded_text = contractions_re.sub(\n",
    "        lambda match: contractions_dict[match.group(0)], text)\n",
    "\n",
    "    return expanded_text\n",
    "\n",
    "\n",
    "train['comment_text'] = train['comment_text'].apply(\n",
    "    help_tool.expand_contractions)"
   ]
  },
  {
   "cell_type": "markdown",
   "metadata": {},
   "source": [
    "## Text normalization"
   ]
  },
  {
   "cell_type": "code",
   "execution_count": 16,
   "metadata": {},
   "outputs": [
    {
     "data": {
      "text/html": [
       "<div>\n",
       "<style scoped>\n",
       "    .dataframe tbody tr th:only-of-type {\n",
       "        vertical-align: middle;\n",
       "    }\n",
       "\n",
       "    .dataframe tbody tr th {\n",
       "        vertical-align: top;\n",
       "    }\n",
       "\n",
       "    .dataframe thead th {\n",
       "        text-align: right;\n",
       "    }\n",
       "</style>\n",
       "<table border=\"1\" class=\"dataframe\">\n",
       "  <thead>\n",
       "    <tr style=\"text-align: right;\">\n",
       "      <th></th>\n",
       "      <th>id</th>\n",
       "      <th>comment_text</th>\n",
       "      <th>toxic</th>\n",
       "      <th>severe_toxic</th>\n",
       "      <th>obscene</th>\n",
       "      <th>threat</th>\n",
       "      <th>insult</th>\n",
       "      <th>identity_hate</th>\n",
       "      <th>comment_text_original</th>\n",
       "      <th>extracted_text</th>\n",
       "    </tr>\n",
       "  </thead>\n",
       "  <tbody>\n",
       "    <tr>\n",
       "      <th>159315</th>\n",
       "      <td>fbf8672ea3b4ddf7</td>\n",
       "      <td>nysun public interest crap</td>\n",
       "      <td>1</td>\n",
       "      <td>0</td>\n",
       "      <td>0</td>\n",
       "      <td>0</td>\n",
       "      <td>0</td>\n",
       "      <td>0</td>\n",
       "      <td>http://www.nysun.com/article/23698 - public interest crap..</td>\n",
       "      <td>NaN</td>\n",
       "    </tr>\n",
       "  </tbody>\n",
       "</table>\n",
       "</div>"
      ],
      "text/plain": [
       "                      id                comment_text  toxic  severe_toxic  \\\n",
       "159315  fbf8672ea3b4ddf7  nysun public interest crap      1             0   \n",
       "\n",
       "        obscene  threat  insult  identity_hate  \\\n",
       "159315        0       0       0              0   \n",
       "\n",
       "                                              comment_text_original  \\\n",
       "159315  http://www.nysun.com/article/23698 - public interest crap..   \n",
       "\n",
       "       extracted_text  \n",
       "159315            NaN  "
      ]
     },
     "execution_count": 16,
     "metadata": {},
     "output_type": "execute_result"
    }
   ],
   "source": [
    "train['comment_text'] = train['comment_text'].apply(help_tool.clean_text)\n",
    "train[train['id'] == 'fbf8672ea3b4ddf7']"
   ]
  },
  {
   "cell_type": "markdown",
   "metadata": {},
   "source": [
    "## Remove Stop Words\n",
    "Stop words (e.g., \"and\", \"the\", \"is\") are common words that may not carry much information."
   ]
  },
  {
   "cell_type": "code",
   "execution_count": 17,
   "metadata": {},
   "outputs": [],
   "source": [
    "train['comment_text'] = train['comment_text'].apply(help_tool.remove_stopwords)"
   ]
  },
  {
   "cell_type": "code",
   "execution_count": 18,
   "metadata": {},
   "outputs": [],
   "source": [
    "train = train[train['comment_text'] != '']"
   ]
  },
  {
   "cell_type": "markdown",
   "metadata": {},
   "source": [
    "## Duplicated values\n",
    "Duplicated values are removed for no classes, while duplicates for classes are left in. This is done, because Large Language Models benefit from overfitting."
   ]
  },
  {
   "cell_type": "code",
   "execution_count": 19,
   "metadata": {},
   "outputs": [],
   "source": [
    "train['toxic_flag'] = 0\n",
    "\n",
    "train.loc[\n",
    "    (train['toxic'] == 1) | (train['severe_toxic'] == 1) | (train['obscene'] == 1) | \n",
    "    (train['threat'] == 1) | (train['insult'] == 1) | (train['identity_hate'] == 1), \n",
    "    'toxic_flag'\n",
    "] = 1"
   ]
  },
  {
   "cell_type": "code",
   "execution_count": 20,
   "metadata": {},
   "outputs": [
    {
     "data": {
      "text/plain": [
       "(157769, 11)"
      ]
     },
     "execution_count": 20,
     "metadata": {},
     "output_type": "execute_result"
    }
   ],
   "source": [
    "df_non_toxic = train[~train['comment_text'].duplicated() & (train['toxic_flag'] == 0)]\n",
    "df_toxic = train[(train['toxic_flag'] == 1)]\n",
    "\n",
    "df = pd.concat([df_non_toxic, df_toxic])\n",
    "df.shape"
   ]
  },
  {
   "cell_type": "markdown",
   "metadata": {},
   "source": [
    "# Dataset Imbalance"
   ]
  },
  {
   "cell_type": "code",
   "execution_count": 21,
   "metadata": {},
   "outputs": [],
   "source": [
    "train['toxic_flag'] = 0\n",
    "\n",
    "train.loc[\n",
    "    (train['toxic'] == 1) | (train['severe_toxic'] == 1) | (train['obscene'] == 1) | \n",
    "    (train['threat'] == 1) | (train['insult'] == 1) | (train['identity_hate'] == 1), \n",
    "    'toxic_flag'\n",
    "] = 1\n",
    "\n",
    "\n",
    "class_distribution = train[['toxic', 'severe_toxic', 'obscene', 'threat',\n",
    "       'insult', 'identity_hate', 'toxic_flag']].sum().to_frame().reset_index().rename(columns={'index': 'Class', 0: 'Count'})"
   ]
  },
  {
   "cell_type": "code",
   "execution_count": 22,
   "metadata": {},
   "outputs": [
    {
     "data": {
      "image/png": "[encoded data removed]",
      "text/plain": [
       "<Figure size 640x480 with 1 Axes>"
      ]
     },
     "metadata": {},
     "output_type": "display_data"
    }
   ],
   "source": [
    "sns.countplot(data=train, x='toxic_flag', stat='percent')\n",
    "plt.title('Toxic Flag distibution')\n",
    "plt.show()"
   ]
  },
  {
   "cell_type": "markdown",
   "metadata": {},
   "source": [
    "Dataset is very imbalanced, 10% of cases are toxic_flag'ed, from those 10% it is seen that 3 classes have low number compared to others"
   ]
  },
  {
   "cell_type": "code",
   "execution_count": 23,
   "metadata": {},
   "outputs": [
    {
     "data": {
      "image/png": "[encoded data removed]",
      "text/plain": [
       "<Figure size 640x480 with 1 Axes>"
      ]
     },
     "metadata": {},
     "output_type": "display_data"
    }
   ],
   "source": [
    "sns.barplot(data=class_distribution, x='Class', y='Count')\n",
    "plt.title('Class distibution')\n",
    "plt.xticks(rotation=45)\n",
    "plt.show()"
   ]
  },
  {
   "cell_type": "markdown",
   "metadata": {},
   "source": [
    "# Data augmentation\n",
    "Before continueing with data augmentation (backtranslation) on minority classes:\n",
    "* severe_toxic\n",
    "* threat\n",
    "* identity_hate\n",
    "\n",
    "non English words will be removed"
   ]
  },
  {
   "cell_type": "markdown",
   "metadata": {},
   "source": [
    "## English Words\n",
    "Removing all non engligh words"
   ]
  },
  {
   "cell_type": "code",
   "execution_count": 23,
   "metadata": {},
   "outputs": [],
   "source": [
    "train['language'] = train['comment_text'].apply(help_tool.detect_language)"
   ]
  },
  {
   "cell_type": "code",
   "execution_count": 24,
   "metadata": {},
   "outputs": [
    {
     "data": {
      "image/png": "[encoded data removed]",
      "text/plain": [
       "<Figure size 1000x600 with 1 Axes>"
      ]
     },
     "metadata": {},
     "output_type": "display_data"
    }
   ],
   "source": [
    "plt.figure(figsize=(10, 6))\n",
    "\n",
    "sns.countplot(train, x='language', stat='percent', hue='toxic_flag')\n",
    "plt.title('Language distibution')\n",
    "plt.xticks(rotation=45)\n",
    "plt.show()"
   ]
  },
  {
   "cell_type": "markdown",
   "metadata": {},
   "source": [
    "Non English language handling. 9% of all cases are in other Languages"
   ]
  },
  {
   "cell_type": "code",
   "execution_count": 25,
   "metadata": {},
   "outputs": [],
   "source": [
    "non_en_df = train[train['language'] != 'en']"
   ]
  },
  {
   "cell_type": "code",
   "execution_count": 26,
   "metadata": {},
   "outputs": [
    {
     "data": {
      "text/plain": [
       "8.772656784635766"
      ]
     },
     "execution_count": 26,
     "metadata": {},
     "output_type": "execute_result"
    }
   ],
   "source": [
    "non_en_df.shape[0] / train.shape[0] * 100"
   ]
  },
  {
   "cell_type": "code",
   "execution_count": 27,
   "metadata": {},
   "outputs": [
    {
     "data": {
      "text/plain": [
       "toxic            2619\n",
       "severe_toxic      336\n",
       "obscene          1464\n",
       "threat            100\n",
       "insult           1344\n",
       "identity_hate     318\n",
       "toxic_flag       2691\n",
       "dtype: int64"
      ]
     },
     "execution_count": 27,
     "metadata": {},
     "output_type": "execute_result"
    }
   ],
   "source": [
    "non_en_df[['toxic', 'severe_toxic', 'obscene', 'threat',\n",
    "       'insult', 'identity_hate', 'toxic_flag']].sum()"
   ]
  },
  {
   "cell_type": "code",
   "execution_count": 28,
   "metadata": {},
   "outputs": [
    {
     "data": {
      "text/plain": [
       "toxic_flag    0.192586\n",
       "dtype: float64"
      ]
     },
     "execution_count": 28,
     "metadata": {},
     "output_type": "execute_result"
    }
   ],
   "source": [
    "non_en_df[['toxic_flag']].sum() / non_en_df.shape[0]"
   ]
  },
  {
   "cell_type": "markdown",
   "metadata": {},
   "source": [
    "Non toxic comments will be removed, while toxic comments will be translated. Model langdetect identifies English jargon as other languages."
   ]
  },
  {
   "cell_type": "markdown",
   "metadata": {},
   "source": [
    "Translation by Google Translator thought the English slang and grammer mistakes are another language."
   ]
  },
  {
   "cell_type": "code",
   "execution_count": 29,
   "metadata": {},
   "outputs": [
    {
     "data": {
      "text/html": [
       "<div>\n",
       "<style scoped>\n",
       "    .dataframe tbody tr th:only-of-type {\n",
       "        vertical-align: middle;\n",
       "    }\n",
       "\n",
       "    .dataframe tbody tr th {\n",
       "        vertical-align: top;\n",
       "    }\n",
       "\n",
       "    .dataframe thead th {\n",
       "        text-align: right;\n",
       "    }\n",
       "</style>\n",
       "<table border=\"1\" class=\"dataframe\">\n",
       "  <thead>\n",
       "    <tr style=\"text-align: right;\">\n",
       "      <th></th>\n",
       "      <th>id</th>\n",
       "      <th>comment_text</th>\n",
       "      <th>toxic</th>\n",
       "      <th>severe_toxic</th>\n",
       "      <th>obscene</th>\n",
       "      <th>threat</th>\n",
       "      <th>insult</th>\n",
       "      <th>identity_hate</th>\n",
       "      <th>comment_text_original</th>\n",
       "      <th>extracted_text</th>\n",
       "      <th>toxic_flag</th>\n",
       "      <th>language</th>\n",
       "    </tr>\n",
       "  </thead>\n",
       "  <tbody>\n",
       "    <tr>\n",
       "      <th>51</th>\n",
       "      <td>001dc38a83d420cf</td>\n",
       "      <td>get fucked get fuckeeed got drink cant put get fuck get fucked im fucked right</td>\n",
       "      <td>1</td>\n",
       "      <td>0</td>\n",
       "      <td>1</td>\n",
       "      <td>0</td>\n",
       "      <td>0</td>\n",
       "      <td>0</td>\n",
       "      <td>GET FUCKED UP. GET FUCKEEED UP.  GOT A DRINK THAT YOU CANT PUT DOWN???/ GET FUCK UP GET FUCKED UP.  I'M FUCKED UP RIGHT NOW!</td>\n",
       "      <td>NaN</td>\n",
       "      <td>1</td>\n",
       "      <td>da</td>\n",
       "    </tr>\n",
       "    <tr>\n",
       "      <th>105</th>\n",
       "      <td>00472b8e2d38d1ea</td>\n",
       "      <td>pair jewhating weiner nazi schmucks</td>\n",
       "      <td>1</td>\n",
       "      <td>0</td>\n",
       "      <td>1</td>\n",
       "      <td>0</td>\n",
       "      <td>1</td>\n",
       "      <td>1</td>\n",
       "      <td>A pair of jew-hating weiner nazi schmucks.</td>\n",
       "      <td>NaN</td>\n",
       "      <td>1</td>\n",
       "      <td>de</td>\n",
       "    </tr>\n",
       "    <tr>\n",
       "      <th>211</th>\n",
       "      <td>0086998b34865f93</td>\n",
       "      <td>fuck block faggot pussy</td>\n",
       "      <td>1</td>\n",
       "      <td>0</td>\n",
       "      <td>1</td>\n",
       "      <td>0</td>\n",
       "      <td>1</td>\n",
       "      <td>0</td>\n",
       "      <td>Fuck you, block me, you faggot pussy!</td>\n",
       "      <td>NaN</td>\n",
       "      <td>1</td>\n",
       "      <td>sv</td>\n",
       "    </tr>\n",
       "    <tr>\n",
       "      <th>238</th>\n",
       "      <td>0097dd5c29bf7a15</td>\n",
       "      <td>u r tw fuck u gay boyu r smellyfuck ur mum poopie</td>\n",
       "      <td>1</td>\n",
       "      <td>0</td>\n",
       "      <td>1</td>\n",
       "      <td>0</td>\n",
       "      <td>1</td>\n",
       "      <td>1</td>\n",
       "      <td>u r a tw@ fuck off u gay boy.U r smelly.Fuck ur mum poopie</td>\n",
       "      <td>NaN</td>\n",
       "      <td>1</td>\n",
       "      <td>cy</td>\n",
       "    </tr>\n",
       "    <tr>\n",
       "      <th>423</th>\n",
       "      <td>01113aece2e95a73</td>\n",
       "      <td>careful call moron</td>\n",
       "      <td>1</td>\n",
       "      <td>0</td>\n",
       "      <td>0</td>\n",
       "      <td>0</td>\n",
       "      <td>0</td>\n",
       "      <td>0</td>\n",
       "      <td>Be careful who you call a moron.</td>\n",
       "      <td>NaN</td>\n",
       "      <td>1</td>\n",
       "      <td>ro</td>\n",
       "    </tr>\n",
       "  </tbody>\n",
       "</table>\n",
       "</div>"
      ],
      "text/plain": [
       "                   id  \\\n",
       "51   001dc38a83d420cf   \n",
       "105  00472b8e2d38d1ea   \n",
       "211  0086998b34865f93   \n",
       "238  0097dd5c29bf7a15   \n",
       "423  01113aece2e95a73   \n",
       "\n",
       "                                                                       comment_text  \\\n",
       "51   get fucked get fuckeeed got drink cant put get fuck get fucked im fucked right   \n",
       "105                                             pair jewhating weiner nazi schmucks   \n",
       "211                                                         fuck block faggot pussy   \n",
       "238                               u r tw fuck u gay boyu r smellyfuck ur mum poopie   \n",
       "423                                                              careful call moron   \n",
       "\n",
       "     toxic  severe_toxic  obscene  threat  insult  identity_hate  \\\n",
       "51       1             0        1       0       0              0   \n",
       "105      1             0        1       0       1              1   \n",
       "211      1             0        1       0       1              0   \n",
       "238      1             0        1       0       1              1   \n",
       "423      1             0        0       0       0              0   \n",
       "\n",
       "                                                                                                            comment_text_original  \\\n",
       "51   GET FUCKED UP. GET FUCKEEED UP.  GOT A DRINK THAT YOU CANT PUT DOWN???/ GET FUCK UP GET FUCKED UP.  I'M FUCKED UP RIGHT NOW!   \n",
       "105                                                                                    A pair of jew-hating weiner nazi schmucks.   \n",
       "211                                                                                         Fuck you, block me, you faggot pussy!   \n",
       "238                                                                    u r a tw@ fuck off u gay boy.U r smelly.Fuck ur mum poopie   \n",
       "423                                                                                              Be careful who you call a moron.   \n",
       "\n",
       "    extracted_text  toxic_flag language  \n",
       "51             NaN           1       da  \n",
       "105            NaN           1       de  \n",
       "211            NaN           1       sv  \n",
       "238            NaN           1       cy  \n",
       "423            NaN           1       ro  "
      ]
     },
     "execution_count": 29,
     "metadata": {},
     "output_type": "execute_result"
    }
   ],
   "source": [
    "toxic_non_en = train[(train['language'] != 'en') & (train['toxic_flag'] != 0)]\n",
    "toxic_non_en.head()"
   ]
  },
  {
   "cell_type": "markdown",
   "metadata": {},
   "source": [
    "Translate toxic comments"
   ]
  },
  {
   "cell_type": "code",
   "execution_count": 50,
   "metadata": {},
   "outputs": [],
   "source": [
    "toxic_non_en['translated_text'] = toxic_non_en['comment_text'].apply(help_tool.translate_to_english)"
   ]
  },
  {
   "cell_type": "code",
   "execution_count": 54,
   "metadata": {},
   "outputs": [],
   "source": [
    "toxic_non_en = toxic_non_en[toxic_non_en['translated_text'] != toxic_non_en['comment_text']]"
   ]
  },
  {
   "cell_type": "markdown",
   "metadata": {},
   "source": [
    "Šitų nepamiršti sujungit"
   ]
  },
  {
   "cell_type": "code",
   "execution_count": 56,
   "metadata": {},
   "outputs": [
    {
     "data": {
      "text/html": [
       "<div>\n",
       "<style scoped>\n",
       "    .dataframe tbody tr th:only-of-type {\n",
       "        vertical-align: middle;\n",
       "    }\n",
       "\n",
       "    .dataframe tbody tr th {\n",
       "        vertical-align: top;\n",
       "    }\n",
       "\n",
       "    .dataframe thead th {\n",
       "        text-align: right;\n",
       "    }\n",
       "</style>\n",
       "<table border=\"1\" class=\"dataframe\">\n",
       "  <thead>\n",
       "    <tr style=\"text-align: right;\">\n",
       "      <th></th>\n",
       "      <th>translated_text</th>\n",
       "      <th>comment_text</th>\n",
       "      <th>language</th>\n",
       "    </tr>\n",
       "  </thead>\n",
       "  <tbody>\n",
       "    <tr>\n",
       "      <th>150282</th>\n",
       "      <td>Arororo saee fuck you can let us Euquinia you</td>\n",
       "      <td>aurora jolie n fuk yu delete wikipedia yub</td>\n",
       "      <td>id</td>\n",
       "    </tr>\n",
       "    <tr>\n",
       "      <th>151673</th>\n",
       "      <td>willing cold</td>\n",
       "      <td>wil kil</td>\n",
       "      <td>sw</td>\n",
       "    </tr>\n",
       "    <tr>\n",
       "      <th>156656</th>\n",
       "      <td>You are a mother you are not in my intention to discredit GMA Babinang Wikipedia So if you have to stop you ok hell tell sure there is rank wikipedia gives right thought Wikipedia Place people freely share Know References Resources Back View Different Way Always Gotta Taking Fing Fingblame sh you animal</td>\n",
       "      <td>ptang ina ka hayop ka wala sa aking intensyon na siraan ang gma babuyin ang wikipedia kaya kung meron man dapat tumigil ikaw yun ok hell tell sure may rank wikipedia gives right thought wikipedia place people freely share know references resources back view different way always gotta taking fing blame sh ka hayop</td>\n",
       "      <td>tl</td>\n",
       "    </tr>\n",
       "    <tr>\n",
       "      <th>158393</th>\n",
       "      <td>Blackky</td>\n",
       "      <td>blackkite faggot</td>\n",
       "      <td>da</td>\n",
       "    </tr>\n",
       "    <tr>\n",
       "      <th>159268</th>\n",
       "      <td>Hi Bading Putang Mom You Gay You Fuck You Are You Chumupa You Are Guys You Are Nothing to Do By Life Diba Your Wife's NRDG Chiunuchapaan You Mother Your Mother You really love Oten Fuck Fuck BullshitMan fuck fuck fuck your mother pork gay</td>\n",
       "      <td>hi bading putang ina mong bakla ka fuck kang bading ka chumupa ka nalang gago ka puta puta ka walang magawa sa buhay diba asawa mo si nrdg chiunuchupaan mo siya tang ina mo mahilig ka talaga sa oten fuck fuck bullshit na bading manyak mahilig manuod ng mga bold na man man fuck fuck putang ina mo baboy na bakla</td>\n",
       "      <td>tl</td>\n",
       "    </tr>\n",
       "  </tbody>\n",
       "</table>\n",
       "</div>"
      ],
      "text/plain": [
       "                                                                                                                                                                                                                                                                                                         translated_text  \\\n",
       "150282                                                                                                                                                                                                                                                                     Arororo saee fuck you can let us Euquinia you   \n",
       "151673                                                                                                                                                                                                                                                                                                      willing cold   \n",
       "156656  You are a mother you are not in my intention to discredit GMA Babinang Wikipedia So if you have to stop you ok hell tell sure there is rank wikipedia gives right thought Wikipedia Place people freely share Know References Resources Back View Different Way Always Gotta Taking Fing Fingblame sh you animal   \n",
       "158393                                                                                                                                                                                                                                                                                                           Blackky   \n",
       "159268                                                                    Hi Bading Putang Mom You Gay You Fuck You Are You Chumupa You Are Guys You Are Nothing to Do By Life Diba Your Wife's NRDG Chiunuchapaan You Mother Your Mother You really love Oten Fuck Fuck BullshitMan fuck fuck fuck your mother pork gay   \n",
       "\n",
       "                                                                                                                                                                                                                                                                                                                      comment_text  \\\n",
       "150282                                                                                                                                                                                                                                                                                  aurora jolie n fuk yu delete wikipedia yub   \n",
       "151673                                                                                                                                                                                                                                                                                                                     wil kil   \n",
       "156656  ptang ina ka hayop ka wala sa aking intensyon na siraan ang gma babuyin ang wikipedia kaya kung meron man dapat tumigil ikaw yun ok hell tell sure may rank wikipedia gives right thought wikipedia place people freely share know references resources back view different way always gotta taking fing blame sh ka hayop   \n",
       "158393                                                                                                                                                                                                                                                                                                            blackkite faggot   \n",
       "159268     hi bading putang ina mong bakla ka fuck kang bading ka chumupa ka nalang gago ka puta puta ka walang magawa sa buhay diba asawa mo si nrdg chiunuchupaan mo siya tang ina mo mahilig ka talaga sa oten fuck fuck bullshit na bading manyak mahilig manuod ng mga bold na man man fuck fuck putang ina mo baboy na bakla   \n",
       "\n",
       "       language  \n",
       "150282       id  \n",
       "151673       sw  \n",
       "156656       tl  \n",
       "158393       da  \n",
       "159268       tl  "
      ]
     },
     "execution_count": 56,
     "metadata": {},
     "output_type": "execute_result"
    }
   ],
   "source": [
    "toxic_non_en[['translated_text', 'comment_text', 'language']].tail()"
   ]
  },
  {
   "cell_type": "markdown",
   "metadata": {},
   "source": [
    "## Backtranslation of Toxic comments\n",
    "One class is disproportionally smaller than the other - threat. Toxic comments  are translated to German and back to English "
   ]
  },
  {
   "cell_type": "code",
   "execution_count": 106,
   "metadata": {},
   "outputs": [
    {
     "data": {
      "text/plain": [
       "toxic            2210\n",
       "severe_toxic     1259\n",
       "obscene          1915\n",
       "threat            378\n",
       "insult           1900\n",
       "identity_hate    1087\n",
       "toxic_flag       2333\n",
       "dtype: int64"
      ]
     },
     "execution_count": 106,
     "metadata": {},
     "output_type": "execute_result"
    }
   ],
   "source": [
    "train[(train['language'] == 'en') &\n",
    "    (\n",
    "        (train['severe_toxic'] == 1) | \n",
    "        (train['threat'] == 1)\n",
    "      | (train['identity_hate'] == 1)\n",
    "     )\n",
    "      ][['toxic', 'severe_toxic', 'obscene', 'threat',\n",
    "         'insult', 'identity_hate', 'toxic_flag']].sum()"
   ]
  },
  {
   "cell_type": "code",
   "execution_count": 110,
   "metadata": {},
   "outputs": [
    {
     "data": {
      "text/plain": [
       "(378, 12)"
      ]
     },
     "execution_count": 110,
     "metadata": {},
     "output_type": "execute_result"
    }
   ],
   "source": [
    "backtranslation_df = train[(train['threat'] == 1) \n",
    "                           & (train['language'] == 'en')]\n",
    "backtranslation_df.shape"
   ]
  },
  {
   "cell_type": "code",
   "execution_count": 111,
   "metadata": {},
   "outputs": [
    {
     "name": "stderr",
     "output_type": "stream",
     "text": [
      "c:\\Users\\User\\Desktop\\Gintares_Projektai\\Toxic-Comment-Classification\\help_tool\\help_tool.py:194: SettingWithCopyWarning: \n",
      "A value is trying to be set on a copy of a slice from a DataFrame.\n",
      "Try using .loc[row_indexer,col_indexer] = value instead\n",
      "\n",
      "See the caveats in the documentation: https://pandas.pydata.org/pandas-docs/stable/user_guide/indexing.html#returning-a-view-versus-a-copy\n",
      "  df['comment_text_de'] = df['comment_text'].apply(lambda x: translate_text(x, language_2)).str.lower()\n",
      "c:\\Users\\User\\Desktop\\Gintares_Projektai\\Toxic-Comment-Classification\\help_tool\\help_tool.py:196: SettingWithCopyWarning: \n",
      "A value is trying to be set on a copy of a slice from a DataFrame.\n",
      "Try using .loc[row_indexer,col_indexer] = value instead\n",
      "\n",
      "See the caveats in the documentation: https://pandas.pydata.org/pandas-docs/stable/user_guide/indexing.html#returning-a-view-versus-a-copy\n",
      "  df['comment_text_en'] = df['comment_text_de'].apply(lambda x: translate_text(x, language_1)).str.lower()\n"
     ]
    }
   ],
   "source": [
    "backtranslation_df_de = help_tool.language_language_translation(backtranslation_df, 'en', 'de')"
   ]
  },
  {
   "cell_type": "code",
   "execution_count": 118,
   "metadata": {},
   "outputs": [],
   "source": [
    "backtranslation_df_de = backtranslation_df_de[backtranslation_df_de['translated_text'].notna() & (backtranslation_df_de['translated_text']!='into')]"
   ]
  },
  {
   "cell_type": "code",
   "execution_count": 119,
   "metadata": {},
   "outputs": [
    {
     "data": {
      "text/html": [
       "<div>\n",
       "<style scoped>\n",
       "    .dataframe tbody tr th:only-of-type {\n",
       "        vertical-align: middle;\n",
       "    }\n",
       "\n",
       "    .dataframe tbody tr th {\n",
       "        vertical-align: top;\n",
       "    }\n",
       "\n",
       "    .dataframe thead th {\n",
       "        text-align: right;\n",
       "    }\n",
       "</style>\n",
       "<table border=\"1\" class=\"dataframe\">\n",
       "  <thead>\n",
       "    <tr style=\"text-align: right;\">\n",
       "      <th></th>\n",
       "      <th>translated_text</th>\n",
       "      <th>comment_text</th>\n",
       "    </tr>\n",
       "  </thead>\n",
       "  <tbody>\n",
       "    <tr>\n",
       "      <th>802</th>\n",
       "      <td>fuck smith please notify the will dance grave</td>\n",
       "      <td>fuck smith please notified die want dance grave</td>\n",
       "    </tr>\n",
       "    <tr>\n",
       "      <th>3029</th>\n",
       "      <td>motafucka son slut shup otherwise kill</td>\n",
       "      <td>mothafucka son bitch shup otherwise kill</td>\n",
       "    </tr>\n",
       "    <tr>\n",
       "      <th>4888</th>\n",
       "      <td>i don't have the trouble, i am calling for the sign that i threaten anyone who threatens anyone who lifts control over the control policeman.</td>\n",
       "      <td>aint bothering im required sign postsedit specifically threaten anyone blowing control snide comment said im going kill fire thats different saying im going church pray gets cancer dies fire sarchastic tone pity see matter bump weeks cause</td>\n",
       "    </tr>\n",
       "    <tr>\n",
       "      <th>6316</th>\n",
       "      <td>lock know bulgarian bullshit season scour exactly connect you edit someone else ddax articles once next year.</td>\n",
       "      <td>lock know bulgarian bullshit season fooled exactly connect see editing someone else send ddax article one time spend next years prison arrange meeting certain people suspicions terrorism yes terror suspect nowadays kiss young life goodbye file complaints im banned naked ass whole time world cell block think went wrong</td>\n",
       "    </tr>\n",
       "    <tr>\n",
       "      <th>15927</th>\n",
       "      <td>swear insult to understand little coward</td>\n",
       "      <td>insult swear go understand little coward</td>\n",
       "    </tr>\n",
       "    <tr>\n",
       "      <th>...</th>\n",
       "      <td>...</td>\n",
       "      <td>...</td>\n",
       "    </tr>\n",
       "    <tr>\n",
       "      <th>152416</th>\n",
       "      <td>phil knight dies</td>\n",
       "      <td>phil knight die</td>\n",
       "    </tr>\n",
       "    <tr>\n",
       "      <th>153605</th>\n",
       "      <td>hey man retired mexican hahnstich pieces damn shit</td>\n",
       "      <td>hey man retarded mexican cocksucking piece fucking shit please go fucking kill wikipedia admins lower niggers fuck</td>\n",
       "    </tr>\n",
       "    <tr>\n",
       "      <th>154609</th>\n",
       "      <td>listen sick, you attack bloody</td>\n",
       "      <td>listen ill attack bloody want</td>\n",
       "    </tr>\n",
       "    <tr>\n",
       "      <th>155840</th>\n",
       "      <td>bush nuke iran arab golf stupid persians want to see how britney spears will soon support the united states israel terrorist iranian.ask</td>\n",
       "      <td>bush nuke iran arabian gulf stupid persians wanna see britney spears ruling iran hope soon inshallah support united states israel terrorist iranians support hizbolshaitan many terrorist groups also wanna see persians beg us food stop climing arabian gulf persian</td>\n",
       "    </tr>\n",
       "    <tr>\n",
       "      <th>157718</th>\n",
       "      <td>slut dameling hore sucking cock big asshole gay fagot ass bitch hell hell bitch ass motherfucker suck big dick asshole i am a damn mother who probably raped the ass to rape young stupid ass motherfuck</td>\n",
       "      <td>bitch fucking hore suck dick big ass hole gay faggot ass bitch go hell bitch ass motherfucker suck big dick asshole im fuckin mom ho get dick daddy probably raped ass everyday young stupid ass motherfuck</td>\n",
       "    </tr>\n",
       "  </tbody>\n",
       "</table>\n",
       "<p>203 rows × 2 columns</p>\n",
       "</div>"
      ],
      "text/plain": [
       "                                                                                                                                                                                                 translated_text  \\\n",
       "802                                                                                                                                                                fuck smith please notify the will dance grave   \n",
       "3029                                                                                                                                                                      motafucka son slut shup otherwise kill   \n",
       "4888                                                               i don't have the trouble, i am calling for the sign that i threaten anyone who threatens anyone who lifts control over the control policeman.   \n",
       "6316                                                                                               lock know bulgarian bullshit season scour exactly connect you edit someone else ddax articles once next year.   \n",
       "15927                                                                                                                                                                   swear insult to understand little coward   \n",
       "...                                                                                                                                                                                                          ...   \n",
       "152416                                                                                                                                                                                          phil knight dies   \n",
       "153605                                                                                                                                                        hey man retired mexican hahnstich pieces damn shit   \n",
       "154609                                                                                                                                                                            listen sick, you attack bloody   \n",
       "155840                                                                  bush nuke iran arab golf stupid persians want to see how britney spears will soon support the united states israel terrorist iranian.ask   \n",
       "157718  slut dameling hore sucking cock big asshole gay fagot ass bitch hell hell bitch ass motherfucker suck big dick asshole i am a damn mother who probably raped the ass to rape young stupid ass motherfuck   \n",
       "\n",
       "                                                                                                                                                                                                                                                                                                                           comment_text  \n",
       "802                                                                                                                                                                                                                                                                                     fuck smith please notified die want dance grave  \n",
       "3029                                                                                                                                                                                                                                                                                           mothafucka son bitch shup otherwise kill  \n",
       "4888                                                                                    aint bothering im required sign postsedit specifically threaten anyone blowing control snide comment said im going kill fire thats different saying im going church pray gets cancer dies fire sarchastic tone pity see matter bump weeks cause  \n",
       "6316    lock know bulgarian bullshit season fooled exactly connect see editing someone else send ddax article one time spend next years prison arrange meeting certain people suspicions terrorism yes terror suspect nowadays kiss young life goodbye file complaints im banned naked ass whole time world cell block think went wrong  \n",
       "15927                                                                                                                                                                                                                                                                                          insult swear go understand little coward  \n",
       "...                                                                                                                                                                                                                                                                                                                                 ...  \n",
       "152416                                                                                                                                                                                                                                                                                                                  phil knight die  \n",
       "153605                                                                                                                                                                                                               hey man retarded mexican cocksucking piece fucking shit please go fucking kill wikipedia admins lower niggers fuck  \n",
       "154609                                                                                                                                                                                                                                                                                                    listen ill attack bloody want  \n",
       "155840                                                           bush nuke iran arabian gulf stupid persians wanna see britney spears ruling iran hope soon inshallah support united states israel terrorist iranians support hizbolshaitan many terrorist groups also wanna see persians beg us food stop climing arabian gulf persian  \n",
       "157718                                                                                                                      bitch fucking hore suck dick big ass hole gay faggot ass bitch go hell bitch ass motherfucker suck big dick asshole im fuckin mom ho get dick daddy probably raped ass everyday young stupid ass motherfuck  \n",
       "\n",
       "[203 rows x 2 columns]"
      ]
     },
     "execution_count": 119,
     "metadata": {},
     "output_type": "execute_result"
    }
   ],
   "source": [
    "backtranslation_df_de[['translated_text', 'comment_text']]"
   ]
  },
  {
   "cell_type": "code",
   "execution_count": 122,
   "metadata": {},
   "outputs": [
    {
     "data": {
      "text/plain": [
       "language\n",
       "en    203\n",
       "Name: count, dtype: int64"
      ]
     },
     "execution_count": 122,
     "metadata": {},
     "output_type": "execute_result"
    }
   ],
   "source": [
    "backtranslation_df_de['language'] = backtranslation_df_de['comment_text'].apply(help_tool.detect_language)\n",
    "backtranslation_df_de['language'].value_counts()"
   ]
  },
  {
   "cell_type": "markdown",
   "metadata": {},
   "source": [
    "Constructing a single dataframe"
   ]
  },
  {
   "cell_type": "code",
   "execution_count": 130,
   "metadata": {},
   "outputs": [],
   "source": [
    "df_1 = train[train['language'] == 'en'][['id', 'comment_text', 'toxic', 'severe_toxic', 'obscene', 'threat',\n",
    "       'insult', 'identity_hate', 'language', 'toxic_flag']]\n",
    "\n",
    "df_2 = backtranslation_df_de[['id', 'translated_text', 'toxic', 'severe_toxic', 'obscene', 'threat',\n",
    "       'insult', 'identity_hate', 'language', 'toxic_flag']].rename(columns={'translated_text': 'comment_text'})\n",
    "\n",
    "df_3 = toxic_non_en[['id', 'translated_text', 'toxic', 'severe_toxic', 'obscene', 'threat',\n",
    "       'insult', 'identity_hate', 'language', 'toxic_flag']].rename(columns={'translated_text': 'comment_text'})"
   ]
  },
  {
   "cell_type": "code",
   "execution_count": 132,
   "metadata": {},
   "outputs": [
    {
     "data": {
      "text/plain": [
       "(145712, 10)"
      ]
     },
     "execution_count": 132,
     "metadata": {},
     "output_type": "execute_result"
    }
   ],
   "source": [
    "clean_language_df = pd.concat([df_1, df_2, df_2])\n",
    "clean_language_df.shape"
   ]
  },
  {
   "cell_type": "markdown",
   "metadata": {},
   "source": [
    "Threat is increased 2 times."
   ]
  },
  {
   "cell_type": "code",
   "execution_count": 133,
   "metadata": {},
   "outputs": [
    {
     "data": {
      "text/plain": [
       "toxic            13049\n",
       "severe_toxic      1347\n",
       "obscene           7271\n",
       "threat             784\n",
       "insult            6817\n",
       "identity_hate     1199\n",
       "toxic_flag       13940\n",
       "dtype: int64"
      ]
     },
     "execution_count": 133,
     "metadata": {},
     "output_type": "execute_result"
    }
   ],
   "source": [
    "clean_language_df[clean_language_df['toxic_flag'] == 1][['toxic', 'severe_toxic', 'obscene', 'threat',\n",
    "       'insult', 'identity_hate', 'toxic_flag']].sum()"
   ]
  },
  {
   "cell_type": "code",
   "execution_count": 129,
   "metadata": {},
   "outputs": [
    {
     "data": {
      "text/plain": [
       "<Figure size 1000x600 with 0 Axes>"
      ]
     },
     "metadata": {},
     "output_type": "display_data"
    },
    {
     "data": {
      "image/png": "[encoded data removed]",
      "text/plain": [
       "<Figure size 640x480 with 1 Axes>"
      ]
     },
     "metadata": {},
     "output_type": "display_data"
    }
   ],
   "source": [
    "# Step 1: Sum up the categories for both datasets (where toxic_flag is 1)\n",
    "clean_language_sum = clean_language_df[clean_language_df['toxic_flag'] == 1][['toxic', 'severe_toxic', 'obscene', 'threat',\n",
    "       'insult', 'identity_hate', 'toxic_flag']].sum()\n",
    "\n",
    "train_sum = train[train['toxic_flag'] == 1][['toxic', 'severe_toxic', 'obscene', 'threat',\n",
    "       'insult', 'identity_hate', 'toxic_flag']].sum()\n",
    "\n",
    "# Step 2: Create a DataFrame to hold both sums for easy comparison\n",
    "comparison_df = pd.DataFrame({\n",
    "    'clean_language_df': clean_language_sum,\n",
    "    'train': train_sum\n",
    "})\n",
    "\n",
    "# Step 3: Plot the data using seaborn's barplot function\n",
    "plt.figure(figsize=(10, 6))\n",
    "\n",
    "# Create a barplot for both datasets side by side\n",
    "comparison_df.plot(kind='bar', width=0.8)\n",
    "plt.title(\"Comparison of Toxic Categories between clean_language_df and train\")\n",
    "plt.ylabel(\"Count\")\n",
    "plt.xlabel(\"Category\")\n",
    "plt.xticks(rotation=45)\n",
    "plt.legend(title='Dataset')\n",
    "plt.tight_layout()\n",
    "\n",
    "# Step 4: Show the plot\n",
    "plt.show()"
   ]
  },
  {
   "cell_type": "code",
   "execution_count": 134,
   "metadata": {},
   "outputs": [],
   "source": [
    "clean_language_df.to_csv('Archive\\\\clean_language_df.csv')"
   ]
  },
  {
   "cell_type": "code",
   "execution_count": 24,
   "metadata": {},
   "outputs": [
    {
     "data": {
      "text/plain": [
       "(142695, 10)"
      ]
     },
     "execution_count": 24,
     "metadata": {},
     "output_type": "execute_result"
    }
   ],
   "source": [
    "clean_language_df = pd.read_csv(\"Archive\\\\clean_data.csv\").drop(columns=['Unnamed: 0'])\n",
    "clean_language_df.shape"
   ]
  },
  {
   "cell_type": "markdown",
   "metadata": {},
   "source": [
    "# Token Count\n",
    "Checing the average token count in comments, this will be used in model training. We'll take word count of 128 as it's long enought to cover most of cases, but small enought to run."
   ]
  },
  {
   "cell_type": "code",
   "execution_count": 31,
   "metadata": {},
   "outputs": [],
   "source": [
    "MODEL_NAME = 'roberta-base'\n",
    "tokenizer = RobertaTokenizer.from_pretrained(MODEL_NAME, do_lower_case=False, clean_up_tokenization_spaces=True)"
   ]
  },
  {
   "cell_type": "code",
   "execution_count": 32,
   "metadata": {},
   "outputs": [],
   "source": [
    "token_counts = []\n",
    "\n",
    "for _, row in clean_language_df.iterrows():\n",
    "  token_count = len(tokenizer.encode(\n",
    "    row[\"comment_text\"], \n",
    "    max_length=512, \n",
    "    truncation=True\n",
    "  ))\n",
    "  token_counts.append(token_count)"
   ]
  },
  {
   "cell_type": "code",
   "execution_count": 34,
   "metadata": {},
   "outputs": [
    {
     "data": {
      "image/png": "[encoded data removed]",
      "text/plain": [
       "<Figure size 640x480 with 1 Axes>"
      ]
     },
     "metadata": {},
     "output_type": "display_data"
    }
   ],
   "source": [
    "sns.histplot(token_counts)\n",
    "plt.xlim([0, 512])\n",
    "plt.axvline(x=128, color='r', linestyle='--', linewidth=2)\n",
    "plt.show()"
   ]
  },
  {
   "cell_type": "code",
   "execution_count": 146,
   "metadata": {},
   "outputs": [],
   "source": [
    "clean_language_df[['id', 'comment_text', 'toxic', 'severe_toxic', 'obscene', 'threat',\n",
    "       'insult', 'identity_hate', 'toxic_flag', 'comment_length']].to_csv(r'Archive\\clean_data.csv')"
   ]
  },
  {
   "cell_type": "code",
   "execution_count": 98,
   "metadata": {},
   "outputs": [],
   "source": [
    "clean_language_df = pd.read_csv(r'Archive\\\\clean_data.csv').drop(columns='Unnamed: 0')"
   ]
  },
  {
   "cell_type": "markdown",
   "metadata": {},
   "source": [
    "# Test  data cleaning"
   ]
  },
  {
   "cell_type": "code",
   "execution_count": 40,
   "metadata": {},
   "outputs": [],
   "source": [
    "LABEL_COLUMNS = ['toxic', 'severe_toxic', 'obscene', 'threat',\n",
    "       'insult', 'identity_hate']"
   ]
  },
  {
   "cell_type": "code",
   "execution_count": 38,
   "metadata": {},
   "outputs": [
    {
     "name": "stdout",
     "output_type": "stream",
     "text": [
      "Null values:  False\n",
      "Same columns between train and test:  True\n"
     ]
    },
    {
     "data": {
      "text/html": [
       "<div>\n",
       "<style scoped>\n",
       "    .dataframe tbody tr th:only-of-type {\n",
       "        vertical-align: middle;\n",
       "    }\n",
       "\n",
       "    .dataframe tbody tr th {\n",
       "        vertical-align: top;\n",
       "    }\n",
       "\n",
       "    .dataframe thead th {\n",
       "        text-align: right;\n",
       "    }\n",
       "</style>\n",
       "<table border=\"1\" class=\"dataframe\">\n",
       "  <thead>\n",
       "    <tr style=\"text-align: right;\">\n",
       "      <th></th>\n",
       "      <th>id</th>\n",
       "      <th>comment_text</th>\n",
       "      <th>toxic</th>\n",
       "      <th>severe_toxic</th>\n",
       "      <th>obscene</th>\n",
       "      <th>threat</th>\n",
       "      <th>insult</th>\n",
       "      <th>identity_hate</th>\n",
       "      <th>one_hot_labels</th>\n",
       "    </tr>\n",
       "  </thead>\n",
       "  <tbody>\n",
       "    <tr>\n",
       "      <th>5</th>\n",
       "      <td>0001ea8717f6de06</td>\n",
       "      <td>Thank you for understanding. I think very highly of you and would not revert without discussion.</td>\n",
       "      <td>0</td>\n",
       "      <td>0</td>\n",
       "      <td>0</td>\n",
       "      <td>0</td>\n",
       "      <td>0</td>\n",
       "      <td>0</td>\n",
       "      <td>[0, 0, 0, 0, 0, 0]</td>\n",
       "    </tr>\n",
       "    <tr>\n",
       "      <th>7</th>\n",
       "      <td>000247e83dcc1211</td>\n",
       "      <td>:Dear god this site is horrible.</td>\n",
       "      <td>0</td>\n",
       "      <td>0</td>\n",
       "      <td>0</td>\n",
       "      <td>0</td>\n",
       "      <td>0</td>\n",
       "      <td>0</td>\n",
       "      <td>[0, 0, 0, 0, 0, 0]</td>\n",
       "    </tr>\n",
       "    <tr>\n",
       "      <th>11</th>\n",
       "      <td>0002f87b16116a7f</td>\n",
       "      <td>\"::: Somebody will invariably try to add Religion?  Really??  You mean, the way people have invariably kept adding \"\"Religion\"\" to the Samuel Beckett infobox?  And why do you bother bringing up the long-dead completely non-existent \"\"Influences\"\" issue?  You're just flailing, making up crap on the fly. \\n ::: For comparison, the only explicit acknowledgement in the entire Amos Oz article that he is personally Jewish is in the categories!    \\n\\n \"</td>\n",
       "      <td>0</td>\n",
       "      <td>0</td>\n",
       "      <td>0</td>\n",
       "      <td>0</td>\n",
       "      <td>0</td>\n",
       "      <td>0</td>\n",
       "      <td>[0, 0, 0, 0, 0, 0]</td>\n",
       "    </tr>\n",
       "    <tr>\n",
       "      <th>13</th>\n",
       "      <td>0003e1cccfd5a40a</td>\n",
       "      <td>\" \\n\\n It says it right there that it IS a type. The \"\"Type\"\" of institution is needed in this case because there are three levels of SUNY schools: \\n -University Centers and Doctoral Granting Institutions \\n -State Colleges \\n -Community Colleges. \\n\\n It is needed in this case to clarify that UB is a SUNY Center. It says it even in Binghamton University, University at Albany, State University of New York, and Stony Brook University. Stop trying to say it's not because I am totally right in this case.\"</td>\n",
       "      <td>0</td>\n",
       "      <td>0</td>\n",
       "      <td>0</td>\n",
       "      <td>0</td>\n",
       "      <td>0</td>\n",
       "      <td>0</td>\n",
       "      <td>[0, 0, 0, 0, 0, 0]</td>\n",
       "    </tr>\n",
       "    <tr>\n",
       "      <th>14</th>\n",
       "      <td>00059ace3e3e9a53</td>\n",
       "      <td>\" \\n\\n == Before adding a new product to the list, make sure it's relevant == \\n\\n Before adding a new product to the list, make sure it has a wikipedia entry already, \"\"proving\"\" it's relevance and giving the reader the possibility to read more about it. \\n Otherwise it could be subject to deletion. See this article's revision history.\"</td>\n",
       "      <td>0</td>\n",
       "      <td>0</td>\n",
       "      <td>0</td>\n",
       "      <td>0</td>\n",
       "      <td>0</td>\n",
       "      <td>0</td>\n",
       "      <td>[0, 0, 0, 0, 0, 0]</td>\n",
       "    </tr>\n",
       "  </tbody>\n",
       "</table>\n",
       "</div>"
      ],
      "text/plain": [
       "                  id  \\\n",
       "5   0001ea8717f6de06   \n",
       "7   000247e83dcc1211   \n",
       "11  0002f87b16116a7f   \n",
       "13  0003e1cccfd5a40a   \n",
       "14  00059ace3e3e9a53   \n",
       "\n",
       "                                                                                                                                                                                                                                                                                                                                                                                                                                                                                                                    comment_text  \\\n",
       "5                                                                                                                                                                                                                                                                                                                                                                                                                               Thank you for understanding. I think very highly of you and would not revert without discussion.   \n",
       "7                                                                                                                                                                                                                                                                                                                                                                                                                                                                                               :Dear god this site is horrible.   \n",
       "11                                                           \"::: Somebody will invariably try to add Religion?  Really??  You mean, the way people have invariably kept adding \"\"Religion\"\" to the Samuel Beckett infobox?  And why do you bother bringing up the long-dead completely non-existent \"\"Influences\"\" issue?  You're just flailing, making up crap on the fly. \\n ::: For comparison, the only explicit acknowledgement in the entire Amos Oz article that he is personally Jewish is in the categories!    \\n\\n \"   \n",
       "13  \" \\n\\n It says it right there that it IS a type. The \"\"Type\"\" of institution is needed in this case because there are three levels of SUNY schools: \\n -University Centers and Doctoral Granting Institutions \\n -State Colleges \\n -Community Colleges. \\n\\n It is needed in this case to clarify that UB is a SUNY Center. It says it even in Binghamton University, University at Albany, State University of New York, and Stony Brook University. Stop trying to say it's not because I am totally right in this case.\"   \n",
       "14                                                                                                                                                                           \" \\n\\n == Before adding a new product to the list, make sure it's relevant == \\n\\n Before adding a new product to the list, make sure it has a wikipedia entry already, \"\"proving\"\" it's relevance and giving the reader the possibility to read more about it. \\n Otherwise it could be subject to deletion. See this article's revision history.\"   \n",
       "\n",
       "    toxic  severe_toxic  obscene  threat  insult  identity_hate  \\\n",
       "5       0             0        0       0       0              0   \n",
       "7       0             0        0       0       0              0   \n",
       "11      0             0        0       0       0              0   \n",
       "13      0             0        0       0       0              0   \n",
       "14      0             0        0       0       0              0   \n",
       "\n",
       "        one_hot_labels  \n",
       "5   [0, 0, 0, 0, 0, 0]  \n",
       "7   [0, 0, 0, 0, 0, 0]  \n",
       "11  [0, 0, 0, 0, 0, 0]  \n",
       "13  [0, 0, 0, 0, 0, 0]  \n",
       "14  [0, 0, 0, 0, 0, 0]  "
      ]
     },
     "execution_count": 38,
     "metadata": {},
     "output_type": "execute_result"
    }
   ],
   "source": [
    "test_df = pd.read_csv('Archive/test.csv')\n",
    "test_labels_df = pd.read_csv('Archive/test_labels.csv')\n",
    "test_df = test_df.merge(test_labels_df, on='id', how='left')\n",
    "test_label_cols = list(test_df.columns[2:])\n",
    "print('Null values: ', test_df.isnull().values.any())\n",
    "print('Same columns between train and test: ', LABEL_COLUMNS ==\n",
    "      test_label_cols)  \n",
    "\n",
    "test_df = test_df[~test_df[test_label_cols].eq(-1).any(axis=1)]\n",
    "test_df['one_hot_labels'] = list(test_df[test_label_cols].values)\n",
    "test_df.head()"
   ]
  },
  {
   "cell_type": "code",
   "execution_count": 39,
   "metadata": {},
   "outputs": [
    {
     "name": "stderr",
     "output_type": "stream",
     "text": [
      "c:\\Users\\User\\Desktop\\Gintares_Projektai\\Toxic-Comment-Classification\\help_tool\\help_tool.py:262: SettingWithCopyWarning: \n",
      "A value is trying to be set on a copy of a slice from a DataFrame.\n",
      "Try using .loc[row_indexer,col_indexer] = value instead\n",
      "\n",
      "See the caveats in the documentation: https://pandas.pydata.org/pandas-docs/stable/user_guide/indexing.html#returning-a-view-versus-a-copy\n",
      "  df['comment_text'] = df['comment_text'].apply(replace_filenames)\n",
      "c:\\Users\\User\\Desktop\\Gintares_Projektai\\Toxic-Comment-Classification\\help_tool\\help_tool.py:263: SettingWithCopyWarning: \n",
      "A value is trying to be set on a copy of a slice from a DataFrame.\n",
      "Try using .loc[row_indexer,col_indexer] = value instead\n",
      "\n",
      "See the caveats in the documentation: https://pandas.pydata.org/pandas-docs/stable/user_guide/indexing.html#returning-a-view-versus-a-copy\n",
      "  df['comment_text'] = df['comment_text'].apply(clean_text)\n",
      "c:\\Users\\User\\Desktop\\Gintares_Projektai\\Toxic-Comment-Classification\\help_tool\\help_tool.py:264: SettingWithCopyWarning: \n",
      "A value is trying to be set on a copy of a slice from a DataFrame.\n",
      "Try using .loc[row_indexer,col_indexer] = value instead\n",
      "\n",
      "See the caveats in the documentation: https://pandas.pydata.org/pandas-docs/stable/user_guide/indexing.html#returning-a-view-versus-a-copy\n",
      "  df['comment_text'] = df['comment_text'].apply(remove_stopwords)\n"
     ]
    }
   ],
   "source": [
    "test_df = help_tool.cleaning_comments(test_df)\n",
    "test_df['language'] = test_df['comment_text'].apply(help_tool.detect_language)"
   ]
  },
  {
   "cell_type": "markdown",
   "metadata": {},
   "source": [
    "Unfortunetelly, Google Translate did not identify short sentences with slang as English. These will be left in."
   ]
  },
  {
   "cell_type": "code",
   "execution_count": 90,
   "metadata": {},
   "outputs": [
    {
     "data": {
      "text/plain": [
       "16                                                        one\n",
       "40                                  redirect talkmi vida eres\n",
       "59                                      fuck antisemitic cunt\n",
       "60                                            puwersa ng masa\n",
       "76        dare vandalize page hms beagle dont vandalize demon\n",
       "                                 ...                         \n",
       "153006                         us favour stop lazysloppy best\n",
       "153020                                       reply sockpuppet\n",
       "153040                   good work like images keep good work\n",
       "153049                                       well feel stupid\n",
       "153087                                        yatt got insane\n",
       "Name: comment_text, Length: 7514, dtype: object"
      ]
     },
     "execution_count": 90,
     "metadata": {},
     "output_type": "execute_result"
    }
   ],
   "source": [
    "test_df[test_df['language'] != 'en']['comment_text']"
   ]
  },
  {
   "cell_type": "code",
   "execution_count": null,
   "metadata": {},
   "outputs": [],
   "source": [
    "test_path = r\"Archive\\\\test_df.csv\""
   ]
  },
  {
   "cell_type": "markdown",
   "metadata": {},
   "source": [
    "# Conclusion\n",
    "Training data was cleaned by removing common Wikipedia words, timestamps, non Englist words. Token count max length was chosen as 100 words, as 75% of cases are below this threshold."
   ]
  }
 ],
 "metadata": {
  "kernelspec": {
   "display_name": "dswh_env",
   "language": "python",
   "name": "python3"
  },
  "language_info": {
   "codemirror_mode": {
    "name": "ipython",
    "version": 3
   },
   "file_extension": ".py",
   "mimetype": "text/x-python",
   "name": "python",
   "nbconvert_exporter": "python",
   "pygments_lexer": "ipython3",
   "version": "3.11.9"
  }
 },
 "nbformat": 4,
 "nbformat_minor": 2
}
